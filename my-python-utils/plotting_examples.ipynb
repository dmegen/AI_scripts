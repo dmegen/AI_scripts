{
 "cells": [
  {
   "cell_type": "code",
   "execution_count": null,
   "metadata": {},
   "outputs": [],
   "source": [
    "import tensorflow as tf\n",
    "import xarray as xr\n",
    "import numpy as np\n",
    "import os\n",
    "import sys\n",
    "import matplotlib.pyplot as plt\n",
    "from scipy.ndimage import gaussian_filter"
   ]
  },
  {
   "cell_type": "code",
   "execution_count": null,
   "metadata": {},
   "outputs": [],
   "source": [
    "feature_data    = '/glade/work/hardt/ds612/model2_5minuteAfterHour_MaxColumn_refl.nc'\n",
    "label_data      = '/glade/work/hardt/ds612/model2_MaxColumn_W.nc'\n",
    "\n",
    "xds = xr.open_dataset(feature_data)\n",
    "x = xds.REFL_10CM.values\n",
    "#x = x[7648:9568,:,:]\n",
    "\n",
    "\n",
    "yds = xr.open_dataset(label_data)\n",
    "y = yds.W.values\n",
    "#y = y[7648:9568,:,:]"
   ]
  },
  {
   "cell_type": "code",
   "execution_count": null,
   "metadata": {},
   "outputs": [],
   "source": [
    "print(x.shape)\n",
    "print(y.shape)"
   ]
  },
  {
   "cell_type": "code",
   "execution_count": null,
   "metadata": {},
   "outputs": [],
   "source": [
    "plt_number = 1000\n",
    "d1 = x[plt_number,:,:]\n",
    "print(d1.shape)\n",
    "d2 = y[plt_number,:,:]\n",
    "print(d2.shape)"
   ]
  },
  {
   "cell_type": "code",
   "execution_count": null,
   "metadata": {},
   "outputs": [],
   "source": [
    "#x = np.ma.masked_where(((x<0.001)&(y<1.0)), x)\n",
    "#y = np.ma.masked_where(((x<0.001)&(y<1.0)), y)"
   ]
  },
  {
   "cell_type": "code",
   "execution_count": null,
   "metadata": {},
   "outputs": [],
   "source": [
    "fx = x.copy()\n",
    "#fx = np.ma.masked_where(((x<0.01)&(y<1.0)), fx)\n",
    "fx[((x<.001)&(y<1.0))]=-99"
   ]
  },
  {
   "cell_type": "code",
   "execution_count": null,
   "metadata": {},
   "outputs": [],
   "source": [
    "print(fx[1,:,:])"
   ]
  },
  {
   "cell_type": "code",
   "execution_count": null,
   "metadata": {},
   "outputs": [],
   "source": [
    "fy = y.copy()\n",
    "#fy = gaussian_filter(fy, sigma=1)\n",
    "#fy = gaussian_filter(y, sigma=3)\n",
    "#fy[fy<0.5]=0\n",
    "#fy = np.ma.masked_where(((x<0.01)&(y<1.0)), fy)\n",
    "fy[((x<.001)&(y<1.0))]=-99"
   ]
  },
  {
   "cell_type": "code",
   "execution_count": null,
   "metadata": {},
   "outputs": [],
   "source": [
    "print(fx.shape)\n",
    "print(fy.shape)"
   ]
  },
  {
   "cell_type": "code",
   "execution_count": null,
   "metadata": {},
   "outputs": [],
   "source": [
    "plt_number = 1000\n",
    "d1 = fx[plt_number,:,:]\n",
    "print(d1.shape)\n",
    "d2 = fy[plt_number,:,:]\n",
    "print(d2.shape)"
   ]
  },
  {
   "cell_type": "code",
   "execution_count": null,
   "metadata": {},
   "outputs": [],
   "source": [
    "\n",
    "cmap = plt.cm.Spectral_r\n",
    "\n",
    "fig, (ax1, ax2) = plt.subplots(1,2, figsize=(16,6)) \n",
    "\n",
    "max_ref = np.amax(d1[:,:])\n",
    "p_ref = np.percentile(d1[:,:], 99.9)\n",
    "\n",
    "ref = ax1.imshow(d1, cmap=cmap)\n",
    "ax1.set_title(\"reflectivity (dBZ)\")\n",
    "ref.set_clim(vmin=0, vmax=p_ref)\n",
    "fig.colorbar(ref, ax=ax1, orientation='vertical', label='')\n",
    "\n",
    "max_maxW = np.amax(d2[:,:])\n",
    "p_maxW = np.percentile(d2[:,:], 99.9)\n",
    "\n",
    "maxW = ax2.imshow(d2, cmap=cmap)\n",
    "ax2.set_title(\"maxW (m/s)\")\n",
    "#maxW.set_clim(vmin=0.0, vmax=p_maxW)\n",
    "maxW.set_clim(vmin=0.0,vmax=p_maxW)\n",
    "fig.colorbar(maxW, ax=ax2)\n",
    "\n",
    "#plt.savefig(\"test.png\")"
   ]
  },
  {
   "cell_type": "code",
   "execution_count": null,
   "metadata": {},
   "outputs": [],
   "source": [
    "plt.clf()\n",
    "plt.imshow(x[27,:,:], plt.cm.Spectral_r)\n",
    "plt.colorbar()"
   ]
  },
  {
   "cell_type": "code",
   "execution_count": null,
   "metadata": {},
   "outputs": [],
   "source": [
    "plt.clf()\n",
    "plt.imshow(y[27,:,:], plt.cm.Spectral_r)\n",
    "plt.colorbar()"
   ]
  },
  {
   "cell_type": "code",
   "execution_count": null,
   "metadata": {},
   "outputs": [],
   "source": [
    "image_range = range(20,24,1)\n",
    "\n",
    "for i in image_range:\n",
    "    fig, (ax1, ax2) = plt.subplots(1,2, figsize=(16,6))   \n",
    "    d1 = x[i,:,:]\n",
    "    max_ref = np.amax(d1[:,:])\n",
    "    p_ref = np.percentile(d1[:,:], 99.9)\n",
    "\n",
    "    ref = ax1.imshow(d1, cmap=cmap)\n",
    "    ax1.set_title(\"reflectivity (dBZ)\")\n",
    "    ref.set_clim(vmin=0, vmax=40)\n",
    "    fig.colorbar(ref, ax=ax1)\n",
    "\n",
    "    d2 = y[i,:,:]\n",
    "    max_maxW = np.amax(d2[:,:])\n",
    "    p_maxW = np.percentile(d2[:,:], 99.9)\n",
    "\n",
    "    maxW = ax2.imshow(d2, cmap=cmap)\n",
    "    ax2.set_title(\"maxW (m/s)\")\n",
    "    maxW.set_clim(vmin=0.5, vmax=3)\n",
    "    fig.colorbar(maxW, ax=ax2)\n",
    "    \n",
    "    plt.savefig(\"image_\" + str(i) + \".png\")\n",
    "    plt.clf()\n"
   ]
  },
  {
   "cell_type": "code",
   "execution_count": null,
   "metadata": {},
   "outputs": [],
   "source": [
    "from celluloid import Camera\n",
    "import ffmpeg\n",
    "\n",
    "fig, (ax1, ax2) = plt.subplots(1,2, figsize=(16,6))   \n",
    "\n",
    "camera = Camera(fig)\n",
    "image_range = range(970,1010,1)\n",
    "\n",
    "for i in image_range:\n",
    "#    fig, (ax1, ax2) = plt.subplots(1,2, figsize=(16,6))   \n",
    "    d1 = x[i,:,:]\n",
    "    max_ref = np.amax(d1[:,:])\n",
    "    p_ref = np.percentile(d1[:,:], 99.9)\n",
    "\n",
    "    ref = ax1.imshow(d1, cmap=cmap)\n",
    "    ax1.set_title(\"reflectivity (dBZ)\")\n",
    "    ref.set_clim(vmin=0, vmax=40)\n",
    "    #fig.colorbar(ref, ax=ax1)\n",
    "\n",
    "    d2 = y[i,:,:]\n",
    "    max_maxW = np.amax(d2[:,:])\n",
    "    p_maxW = np.percentile(d2[:,:], 99.9)\n",
    "\n",
    "    maxW = ax2.imshow(d2, cmap=cmap)\n",
    "    ax2.set_title(\"maxW (m/s)\")\n",
    "    maxW.set_clim(vmin=0.5, vmax=3)\n",
    "    #fig.colorbar(maxW, ax=ax2)\n",
    "    camera.snap()\n",
    "\n",
    "animation = camera.animate(interval=500, repeat_delay=1000, repeat=2)\n",
    "animation.save('celluloid_subplots.gif', writer = 'imagemagick')"
   ]
  },
  {
   "cell_type": "code",
   "execution_count": null,
   "metadata": {},
   "outputs": [],
   "source": [
    "from IPython.display import Image\n",
    "with open('celluloid_subplots.gif','rb') as file:\n",
    "    display(Image(file.read()))\n"
   ]
  },
  {
   "cell_type": "code",
   "execution_count": null,
   "metadata": {},
   "outputs": [],
   "source": [
    "from matplotlib.animation import FuncAnimation\n",
    "\n",
    "fig, ax = plt.subplots()\n",
    "#fig, (ax1, ax2) = plt.subplots(1,2, figsize=(10,3))\n",
    "xdata, ydata = [], []\n",
    "ln, = plt.plot([], [], 'ro')\n",
    "\n",
    "def init():\n",
    "    ax.set_xlim(0, 2*np.pi)\n",
    "    ax.set_ylim(-1, 1)\n",
    "    return ln,\n",
    "\n",
    "def update(frame):\n",
    "    xdata.append(frame)\n",
    "    ydata.append(np.sin(frame))\n",
    "    ln.set_data(xdata, ydata)\n",
    "    return ln,\n",
    "\n",
    "ani = FuncAnimation(fig, update, frames=np.linspace(0, 2*np.pi, 128),\n",
    "                    init_func=init, blit=True)\n",
    "\n",
    "ani.save(\"test.gif\", writer=\"imagemagick\")\n"
   ]
  }
 ],
 "metadata": {
  "kernelspec": {
   "display_name": "Python 3",
   "language": "python",
   "name": "python3"
  },
  "language_info": {
   "codemirror_mode": {
    "name": "ipython",
    "version": 3
   },
   "file_extension": ".py",
   "mimetype": "text/x-python",
   "name": "python",
   "nbconvert_exporter": "python",
   "pygments_lexer": "ipython3",
   "version": "3.7.5"
  }
 },
 "nbformat": 4,
 "nbformat_minor": 4
}
