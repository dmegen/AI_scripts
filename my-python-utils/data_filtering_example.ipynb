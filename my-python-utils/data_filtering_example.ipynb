{
 "cells": [
  {
   "cell_type": "code",
   "execution_count": null,
   "metadata": {},
   "outputs": [],
   "source": [
    "import tensorflow as tf\n",
    "import xarray as xr\n",
    "import numpy as np\n",
    "import os\n",
    "import sys\n",
    "import matplotlib.pyplot as plt"
   ]
  },
  {
   "cell_type": "code",
   "execution_count": null,
   "metadata": {},
   "outputs": [],
   "source": [
    "feature_data = '/glade/work/hardt/ds612/2000-2013_June-Sept_CTRLradrefl_REFL.nc'\n",
    "label_data   = '/glade/work/hardt/ds612/2000-2013_June-Sept_CTRL3D_maxW.nc'"
   ]
  },
  {
   "cell_type": "code",
   "execution_count": null,
   "metadata": {},
   "outputs": [],
   "source": [
    "xds = xr.open_dataset(feature_data)\n",
    "yds = xr.open_dataset(label_data)\n",
    "refl = xds.refl.values\n",
    "maxW = yds.maxW.values"
   ]
  },
  {
   "cell_type": "code",
   "execution_count": null,
   "metadata": {},
   "outputs": [],
   "source": [
    "print(np.amin(refl))\n",
    "print(np.amax(refl))\n",
    "print(np.percentile(refl,50.0))\n",
    "print(np.percentile(refl,99.9))\n",
    "print(np.median(refl))\n",
    "print(np.mean(refl))"
   ]
  },
  {
   "cell_type": "code",
   "execution_count": null,
   "metadata": {},
   "outputs": [],
   "source": [
    "print(np.amin(maxW))\n",
    "print(np.amax(maxW))\n",
    "print(np.percentile(maxW,0.01))\n",
    "print(np.percentile(maxW,50.0))\n",
    "print(np.percentile(maxW, 99.9))\n",
    "print(np.median(maxW))\n",
    "print(np.mean(maxW))"
   ]
  },
  {
   "cell_type": "code",
   "execution_count": null,
   "metadata": {},
   "outputs": [],
   "source": [
    "x = refl[7648:9568,:,:]\n",
    "y = maxW[7648:9568,:,:]\n",
    "print(x.shape)"
   ]
  },
  {
   "cell_type": "code",
   "execution_count": null,
   "metadata": {},
   "outputs": [],
   "source": [
    "plt_number = 0\n",
    "\n",
    "d1 = x[plt_number,:,:]\n",
    "print(d1.shape)\n",
    "\n",
    "d2 = y[plt_number,:,:]\n",
    "print(d2.shape)\n",
    "print(np.percentile(d2,0.01))"
   ]
  },
  {
   "cell_type": "code",
   "execution_count": null,
   "metadata": {},
   "outputs": [],
   "source": [
    "cmap = plt.cm.Spectral_r\n",
    "\n",
    "fig, (ax1, ax2) = plt.subplots(1,2, figsize=(32,12))\n",
    "\n",
    "ref = ax1.imshow(d1, cmap=cmap)\n",
    "ax1.set_title(\"reflectivity\")\n",
    "ref.set_clim()\n",
    "fig.colorbar(ref, ax=ax1, orientation='vertical', label='')\n",
    "\n",
    "mxW = ax2.imshow(d2, cmap=cmap)\n",
    "ax2.set_title(\"maxW (m/s)\")\n",
    "mxW.set_clim()\n",
    "fig.colorbar(mxW, ax=ax2)\n"
   ]
  },
  {
   "cell_type": "code",
   "execution_count": null,
   "metadata": {},
   "outputs": [],
   "source": [
    "z = np.zeros((7680,128,128))\n",
    "\n",
    "j=0\n",
    "for i in range(len(x) - 1):\n",
    "    if np.amax(x[i,0:128,0:128]) != np.amin(x[i,0:128,0:128]):\n",
    "        z[j,:,:] = x[i,0:128,0:128]\n",
    "        j = j+1\n",
    "    if np.amax(x[i,0:128,128:256]) != np.amin(x[i,0:128,128:256]):\n",
    "        z[j,:,:] = x[i,0:128,128:256]\n",
    "        j = j+1\n",
    "    if np.amax(x[i,128:256,0:128]) != np.amin(x[i,128:256,0:128]):\n",
    "        z[j,:,:] = x[i,128:256,0:128]\n",
    "        j = j+1\n",
    "    if np.amax(x[i,128:256,128:256]) != np.amin(x[i,128:256,128:256]):\n",
    "        z[j,:,:] = x[i,128:256,128:256]\n",
    "        j = j+1\n",
    "\n",
    "print(j)\n",
    "\n",
    "zz = np.resize(z, (j,128,128))\n",
    "z0 = zz[0,:,:]\n",
    "z1 = zz[1,:,:]\n",
    "z2 = zz[2,:,:]\n",
    "z3 = zz[3,:,:]\n",
    "\n",
    "print(z.shape)\n",
    "print(zz.shape)"
   ]
  },
  {
   "cell_type": "code",
   "execution_count": null,
   "metadata": {},
   "outputs": [],
   "source": [
    "print(np.percentile(z1,99.99))\n",
    "print(np.amax(z1))"
   ]
  },
  {
   "cell_type": "code",
   "execution_count": null,
   "metadata": {},
   "outputs": [],
   "source": [
    "plt.clf()\n",
    "\n",
    "fig, ((ax1, ax2), (ax3, ax4)) = plt.subplots(2, 2, figsize=(12,8))\n",
    "\n",
    "ref = ax1.imshow(z0, cmap=cmap)\n",
    "ax1.set_title(\"reflectivity\")\n",
    "ref.set_clim(vmin=-35,vmax=50)\n",
    "fig.colorbar(ref, ax=ax1, orientation='vertical', label='')\n",
    "\n",
    "ref2 = ax2.imshow(z1, cmap=cmap)\n",
    "ax2.set_title(\"reflectivity\")\n",
    "ref2.set_clim(vmin=-35,vmax=50)\n",
    "fig.colorbar(ref2, ax=ax2, orientation='vertical', label='')\n",
    "\n",
    "ref3 = ax3.imshow(z2, cmap=cmap)\n",
    "ax3.set_title(\"reflectivity\")\n",
    "ref3.set_clim(vmin=-35,vmax=50)\n",
    "fig.colorbar(ref3, ax=ax3, orientation='vertical', label='')\n",
    "\n",
    "ref4 = ax4.imshow(z3, cmap=cmap)\n",
    "ax4.set_title(\"reflectivity\")\n",
    "ref4.set_clim(vmin=-35,vmax=50)\n",
    "fig.colorbar(ref4, ax=ax4, orientation='vertical', label='')\n"
   ]
  },
  {
   "cell_type": "code",
   "execution_count": null,
   "metadata": {},
   "outputs": [],
   "source": [
    "from scipy.ndimage import gaussian_filter"
   ]
  },
  {
   "cell_type": "code",
   "execution_count": null,
   "metadata": {},
   "outputs": [],
   "source": [
    "plt_number = 1000\n",
    "\n",
    "d1 = x[plt_number,:,:]\n",
    "print(d1.shape)\n",
    "d2 = y[plt_number,:,:]\n",
    "print(d2.shape)\n",
    "\n",
    "#d1[d1<0]=0\n",
    "#\n",
    "# min max scaling\n",
    "#\n",
    "d1p1 = (d1 - np.amin(x)) / (np.amax(x) - np.amin(x) )\n",
    "\n",
    "d3 = (d2 - np.amin(y)) / (np.amax(y) - np.amin(y) )\n",
    "\n",
    "#d2[d2<0.5]=0.5\n",
    "#d3 = np.log10(d2)\n",
    "#d3[d1p1==0]=-99"
   ]
  },
  {
   "cell_type": "code",
   "execution_count": null,
   "metadata": {},
   "outputs": [],
   "source": [
    "cmap = plt.cm.Spectral_r\n",
    "\n",
    "fig, (ax1, ax2, ax3) = plt.subplots(1,3, figsize=(26,6))\n",
    "\n",
    "ref = ax1.imshow(d1p1, cmap=cmap)\n",
    "ax1.set_title(\"reflectivity (dBZ)\")\n",
    "ref.set_clim()\n",
    "fig.colorbar(ref, ax=ax1, orientation='vertical', label='')\n",
    "\n",
    "mxW = ax2.imshow(d2, cmap=cmap)\n",
    "ax2.set_title(\"maxW (m/s)\")\n",
    "mxW.set_clim()\n",
    "fig.colorbar(mxW, ax=ax2)\n",
    "\n",
    "lmxW = ax3.imshow(d3, cmap=cmap)\n",
    "ax3.set_title(\"log10(maxW) (m/s)\")\n",
    "lmxW.set_clim()\n",
    "fig.colorbar(lmxW, ax=ax3)\n"
   ]
  },
  {
   "cell_type": "code",
   "execution_count": null,
   "metadata": {},
   "outputs": [],
   "source": [
    "img1 = np.log10(maxW[27,:,:])\n",
    "print(img1.shape)"
   ]
  },
  {
   "cell_type": "code",
   "execution_count": null,
   "metadata": {},
   "outputs": [],
   "source": [
    "plt.clf()\n",
    "plt.imshow(img1)\n",
    "plt.colorbar()"
   ]
  },
  {
   "cell_type": "code",
   "execution_count": null,
   "metadata": {},
   "outputs": [],
   "source": [
    "img2 = gaussian_filter(img1, sigma=3)"
   ]
  },
  {
   "cell_type": "code",
   "execution_count": null,
   "metadata": {},
   "outputs": [],
   "source": [
    "plt.clf()\n",
    "plt.imshow(img2)\n",
    "plt.colorbar()"
   ]
  },
  {
   "cell_type": "code",
   "execution_count": null,
   "metadata": {},
   "outputs": [],
   "source": [
    "img3 = gaussian_filter(img1, sigma=2)"
   ]
  },
  {
   "cell_type": "code",
   "execution_count": null,
   "metadata": {},
   "outputs": [],
   "source": [
    "plt.clf()\n",
    "plt.imshow(img3)\n",
    "plt.colorbar()"
   ]
  },
  {
   "cell_type": "code",
   "execution_count": null,
   "metadata": {},
   "outputs": [],
   "source": []
  }
 ],
 "metadata": {
  "kernelspec": {
   "display_name": "Python 3",
   "language": "python",
   "name": "python3"
  },
  "language_info": {
   "codemirror_mode": {
    "name": "ipython",
    "version": 3
   },
   "file_extension": ".py",
   "mimetype": "text/x-python",
   "name": "python",
   "nbconvert_exporter": "python",
   "pygments_lexer": "ipython3",
   "version": "3.7.5"
  }
 },
 "nbformat": 4,
 "nbformat_minor": 4
}
