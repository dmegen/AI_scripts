{
 "cells": [
  {
   "cell_type": "code",
   "execution_count": 1,
   "metadata": {},
   "outputs": [],
   "source": [
    "import xarray as xr\n",
    "import numpy as np\n",
    "import os\n",
    "import sys\n",
    "import matplotlib.pyplot as plt"
   ]
  },
  {
   "cell_type": "code",
   "execution_count": 2,
   "metadata": {},
   "outputs": [],
   "source": [
    "feature_data = '/glade/work/hardt/ds612/2000-2013_June-Sept_CTRLradrefl_REFL.nc'\n",
    "label_data   = '/glade/work/hardt/ds612/2000-2013_June-Sept_CTRL3D_maxW.nc'"
   ]
  },
  {
   "cell_type": "code",
   "execution_count": 3,
   "metadata": {},
   "outputs": [],
   "source": [
    "def downscale_remove(feature, label):\n",
    "    \n",
    "    j=0\n",
    "    a = np.zeros((len(feature)*4,128,128))\n",
    "    b = np.zeros((len(feature)*4,128,128))\n",
    "    \n",
    "    for i in range(len(feature) - 1):\n",
    "        if np.amax(feature[i,0:128,0:128]) != np.amin(feature[i,0:128,0:128]):\n",
    "            a[j,:,:] = feature[i,0:128,0:128]\n",
    "            b[j,:,:] = label[i,0:128,0:128]\n",
    "            j = j+1\n",
    "        if np.amax(feature[i,0:128,128:256]) != np.amin(feature[i,0:128,128:256]):\n",
    "            a[j,:,:] = feature[i,0:128,128:256]\n",
    "            b[j,:,:] = label[i,0:128,128:256]\n",
    "            j = j+1\n",
    "        if np.amax(feature[i,128:256,0:128]) != np.amin(feature[i,128:256,0:128]):\n",
    "            a[j,:,:] = feature[i,128:256,0:128]\n",
    "            b[j,:,:] = label[i,128:256,0:128]\n",
    "            j = j+1\n",
    "        if np.amax(feature[i,128:256,128:256]) != np.amin(feature[i,128:256,128:256]):\n",
    "            a[j,:,:] = feature[i,128:256,128:256]\n",
    "            b[j,:,:] = label[i,128:256,128:256]\n",
    "            j = j+1\n",
    "\n",
    "    print(j)\n",
    "\n",
    "    return np.resize(a, (j,128,128)), np.resize(b, (j,128,128))\n"
   ]
  },
  {
   "cell_type": "code",
   "execution_count": 4,
   "metadata": {},
   "outputs": [],
   "source": [
    "def downscale_remove_ag(feature, label, percentile):\n",
    "    \n",
    "    j=0\n",
    "    a = np.zeros((len(feature)*4,128,128))\n",
    "    b = np.zeros((len(feature)*4,128,128))\n",
    "    \n",
    "    for i in range(len(feature) - 1):\n",
    "        if np.percentile(feature[i,0:128,0:128], percentile) >= 0:\n",
    "            a[j,:,:] = feature[i,0:128,0:128]\n",
    "            b[j,:,:] = label[i,0:128,0:128]\n",
    "            j = j+1\n",
    "        if np.percentile(feature[i,0:128,128:256], percentile) >= 0:\n",
    "            a[j,:,:] = feature[i,0:128,128:256]\n",
    "            b[j,:,:] = label[i,0:128,128:256]\n",
    "            j = j+1\n",
    "        if np.percentile(feature[i,128:256,0:128], percentile) >- 0:\n",
    "            a[j,:,:] = feature[i,128:256,0:128]\n",
    "            b[j,:,:] = label[i,128:256,0:128]\n",
    "            j = j+1\n",
    "        if np.percentile(feature[i,128:256,128:256], percentile) >= 0:\n",
    "            a[j,:,:] = feature[i,128:256,128:256]\n",
    "            b[j,:,:] = label[i,128:256,128:256]\n",
    "            j = j+1\n",
    "\n",
    "    print(j)\n",
    "\n",
    "    return np.resize(a, (j,128,128)), np.resize(b, (j,128,128))\n"
   ]
  },
  {
   "cell_type": "code",
   "execution_count": 5,
   "metadata": {},
   "outputs": [],
   "source": [
    "#\n",
    "# load the data\n",
    "#\n",
    "fds = xr.open_dataset(feature_data)\n",
    "lds = xr.open_dataset(label_data)\n",
    "f = fds.refl.values\n",
    "l = lds.maxW.values"
   ]
  },
  {
   "cell_type": "code",
   "execution_count": 6,
   "metadata": {},
   "outputs": [
    {
     "name": "stdout",
     "output_type": "stream",
     "text": [
      "(9568, 256, 256)\n",
      "(9568, 256, 256)\n"
     ]
    }
   ],
   "source": [
    "print(f.shape)\n",
    "print(l.shape)"
   ]
  },
  {
   "cell_type": "code",
   "execution_count": 7,
   "metadata": {},
   "outputs": [],
   "source": [
    "f1 = f.copy()\n",
    "l1 = l.copy()"
   ]
  },
  {
   "cell_type": "code",
   "execution_count": null,
   "metadata": {},
   "outputs": [],
   "source": [
    "#\n",
    "# min max scaling\n",
    "#\n",
    "# f[(l<0.1)&(f<25)]=-999\n",
    "f[f<25] = 0\n",
    "\n",
    "feature = (f - np.amin(f)) / (np.amax(f) - np.amin(f))"
   ]
  },
  {
   "cell_type": "code",
   "execution_count": null,
   "metadata": {},
   "outputs": [],
   "source": [
    "l[l<1.0]=0\n",
    "\n",
    "#label = np.log10(l)\n",
    "\n",
    "# l[(l<0.1)&(f<25)]=-999\n",
    "label = (l - np.amin(l)) / (np.amax(l) - np.amin(l))\n"
   ]
  },
  {
   "cell_type": "code",
   "execution_count": null,
   "metadata": {},
   "outputs": [],
   "source": [
    "print(feature.shape)"
   ]
  },
  {
   "cell_type": "code",
   "execution_count": null,
   "metadata": {},
   "outputs": [],
   "source": [
    "print(label.shape)"
   ]
  },
  {
   "cell_type": "code",
   "execution_count": null,
   "metadata": {},
   "outputs": [],
   "source": [
    "#\n",
    "# write feature_data\n",
    "#\n",
    "output_data = '/glade/work/hardt/ds612/2000-2013_June-Sept_scale_REFL.nc'\n",
    "srefl = xr.DataArray(feature, name='refl')\n",
    "encoding={'refl': {'zlib': True, '_FillValue': -99.0}}\n",
    "srefl.to_netcdf(output_data, encoding=encoding)"
   ]
  },
  {
   "cell_type": "code",
   "execution_count": null,
   "metadata": {},
   "outputs": [],
   "source": [
    "#\n",
    "# write label_data\n",
    "#\n",
    "output_data = '/glade/work/hardt/ds612/2000-2013_June-Sept_scale_maxW.nc'\n",
    "lmaxW = xr.DataArray(label, name='maxW')\n",
    "encoding={'maxW': {'zlib': True, '_FillValue': -99.0}}\n",
    "lmaxW.to_netcdf(output_data, encoding=encoding)"
   ]
  },
  {
   "cell_type": "code",
   "execution_count": 8,
   "metadata": {},
   "outputs": [
    {
     "name": "stdout",
     "output_type": "stream",
     "text": [
      "(9568, 256, 256)\n",
      "(9568, 256, 256)\n"
     ]
    }
   ],
   "source": [
    "print(f1.shape)\n",
    "print(l1.shape)"
   ]
  },
  {
   "cell_type": "code",
   "execution_count": 9,
   "metadata": {},
   "outputs": [
    {
     "name": "stdout",
     "output_type": "stream",
     "text": [
      "12250\n"
     ]
    }
   ],
   "source": [
    "# DS_feature, DS_label = downscale_remove(f1, l1)\n",
    "DS_feature, DS_label = downscale_remove_ag(f1, l1, 95)"
   ]
  },
  {
   "cell_type": "code",
   "execution_count": 10,
   "metadata": {},
   "outputs": [
    {
     "name": "stdout",
     "output_type": "stream",
     "text": [
      "(12250, 128, 128)\n",
      "(12250, 128, 128)\n",
      "\n",
      "min DS_Feature: -35.0\n",
      "\n",
      "90th feature: -35.0\n",
      "90th DS_Feature: 16.705747604370117\n",
      "\n",
      "99.9th feature: 41.73642941665685\n",
      "99.9th DS_Feature: 45.360721588134766\n",
      "\n",
      "mean feature: -31.113676\n",
      "mean DS_Feature: -24.02667184090167\n",
      "\n"
     ]
    }
   ],
   "source": [
    "print(DS_feature.shape)\n",
    "print(DS_label.shape)\n",
    "\n",
    "print()\n",
    "print(\"min DS_Feature:\",np.amin(DS_feature))\n",
    "print()\n",
    "print(\"90th feature:\",np.percentile(f1,90.0))\n",
    "print(\"90th DS_Feature:\",np.percentile(DS_feature,90.0))\n",
    "print()\n",
    "print(\"99.9th feature:\",np.percentile(f1,99.9))\n",
    "print(\"99.9th DS_Feature:\",np.percentile(DS_feature,99.9))\n",
    "print()\n",
    "print(\"mean feature:\",np.mean(f1))\n",
    "print(\"mean DS_Feature:\",np.mean(DS_feature))\n",
    "print()\n"
   ]
  },
  {
   "cell_type": "code",
   "execution_count": 11,
   "metadata": {},
   "outputs": [],
   "source": [
    "DS_feature = (DS_feature - np.amin(DS_feature)) / (np.amax(DS_feature) - np.amin(DS_feature))\n",
    "DS_label = (DS_label - np.amin(DS_label)) / (np.amax(DS_label) - np.amin(DS_label))"
   ]
  },
  {
   "cell_type": "code",
   "execution_count": 12,
   "metadata": {},
   "outputs": [
    {
     "name": "stdout",
     "output_type": "stream",
     "text": [
      "min DS_Feature: 0.0\n",
      "\n",
      "50th DS_Feature: 0.0\n",
      "\n",
      "99.9th DS_Feature: 0.8810781601489119\n",
      "\n",
      "mean DS_Feature: 0.12031200808127257\n"
     ]
    }
   ],
   "source": [
    "print(\"min DS_Feature:\",np.amin(DS_feature))\n",
    "print()\n",
    "print(\"50th DS_Feature:\",np.percentile(DS_feature,50.0))\n",
    "print()\n",
    "print(\"99.9th DS_Feature:\",np.percentile(DS_feature,99.9))\n",
    "print()\n",
    "print(\"mean DS_Feature:\",np.mean(DS_feature))"
   ]
  },
  {
   "cell_type": "code",
   "execution_count": 13,
   "metadata": {},
   "outputs": [],
   "source": [
    "plt_number = 371\n",
    "fi = DS_feature[plt_number,:,:]\n",
    "li = DS_label[plt_number,:,:]"
   ]
  },
  {
   "cell_type": "code",
   "execution_count": 14,
   "metadata": {},
   "outputs": [
    {
     "name": "stdout",
     "output_type": "stream",
     "text": [
      "0.000423171072806176 0.08654365765026535 0.0016805441985313263 0.061484304154542126\n"
     ]
    },
    {
     "data": {
      "text/plain": [
       "<matplotlib.colorbar.Colorbar at 0x2aecf11a9e10>"
      ]
     },
     "execution_count": 14,
     "metadata": {},
     "output_type": "execute_result"
    },
    {
     "data": {
      "text/plain": [
       "<Figure size 432x288 with 0 Axes>"
      ]
     },
     "metadata": {},
     "output_type": "display_data"
    },
    {
     "data": {
      "image/png": "[encoded data removed]",
      "text/plain": [
       "<Figure size 1800x432 with 4 Axes>"
      ]
     },
     "metadata": {
      "needs_background": "light"
     },
     "output_type": "display_data"
    }
   ],
   "source": [
    "cmap = plt.cm.Spectral_r\n",
    "plt.clf()\n",
    "\n",
    "fig, (ax1, ax2) = plt.subplots(1,2, figsize=(25,6)) \n",
    "\n",
    "max_ref = np.amax(fi[:,:])\n",
    "p_ref = np.percentile(fi[:,:], 99.9)\n",
    "\n",
    "ref = ax1.imshow(fi, cmap=cmap)\n",
    "ax1.set_title(\"reflectivity (dBZ)\")\n",
    "#ref.set_clim(vmin=0, vmax=max_ref)\n",
    "ref.set_clim()\n",
    "fig.colorbar(ref, ax=ax1, orientation='vertical', label='')\n",
    "\n",
    "max_maxW = np.amax(li[:,:])\n",
    "min_maxW = np.amin(li[:,:])\n",
    "p_maxW = np.percentile(li[:,:], 99.9)\n",
    "pmin_maxW = np.percentile(li[:,:], 35.0)\n",
    "print(min_maxW, max_maxW, pmin_maxW, p_maxW)\n",
    "\n",
    "maxW = ax2.imshow(li, cmap=cmap)\n",
    "ax2.set_title(\"maxW (m/s)\")\n",
    "#maxW.set_clim(vmin=0, vmax=p_maxW)\n",
    "maxW.set_clim()\n",
    "fig.colorbar(maxW, ax=ax2)"
   ]
  },
  {
   "cell_type": "code",
   "execution_count": null,
   "metadata": {},
   "outputs": [],
   "source": [
    "#\n",
    "# Split these files into training, validation, and testing?\n",
    "#"
   ]
  },
  {
   "cell_type": "code",
   "execution_count": 15,
   "metadata": {},
   "outputs": [],
   "source": [
    "#\n",
    "# write downscaled feature_data\n",
    "#\n",
    "output_data = '/glade/work/hardt/ds612/2000-2013_June-Sept_DS128_95th_REFL.nc'\n",
    "srefl = xr.DataArray(DS_feature, name='refl')\n",
    "encoding={'refl': {'zlib': True, '_FillValue': 0.0}}\n",
    "srefl.to_netcdf(output_data, encoding=encoding)"
   ]
  },
  {
   "cell_type": "code",
   "execution_count": 16,
   "metadata": {},
   "outputs": [],
   "source": [
    "#\n",
    "# write downscaled label_data\n",
    "#\n",
    "output_data = '/glade/work/hardt/ds612/2000-2013_June-Sept_DS128_95th_maxW.nc'\n",
    "lmaxW = xr.DataArray(DS_label, name='maxW')\n",
    "encoding={'maxW': {'zlib': True, '_FillValue': 0.0}}\n",
    "lmaxW.to_netcdf(output_data, encoding=encoding)"
   ]
  },
  {
   "cell_type": "code",
   "execution_count": 17,
   "metadata": {},
   "outputs": [
    {
     "name": "stdout",
     "output_type": "stream",
     "text": [
      "DONE\n"
     ]
    }
   ],
   "source": [
    "print(\"DONE\")"
   ]
  },
  {
   "cell_type": "code",
   "execution_count": null,
   "metadata": {},
   "outputs": [],
   "source": []
  }
 ],
 "metadata": {
  "kernelspec": {
   "display_name": "Python 3",
   "language": "python",
   "name": "python3"
  },
  "language_info": {
   "codemirror_mode": {
    "name": "ipython",
    "version": 3
   },
   "file_extension": ".py",
   "mimetype": "text/x-python",
   "name": "python",
   "nbconvert_exporter": "python",
   "pygments_lexer": "ipython3",
   "version": "3.7.5"
  }
 },
 "nbformat": 4,
 "nbformat_minor": 4
}
