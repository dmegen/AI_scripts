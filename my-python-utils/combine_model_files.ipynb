{
 "cells": [
  {
   "cell_type": "code",
   "execution_count": 1,
   "metadata": {},
   "outputs": [],
   "source": [
    "import load_data\n",
    "#import importlib"
   ]
  },
  {
   "cell_type": "code",
   "execution_count": 2,
   "metadata": {},
   "outputs": [],
   "source": [
    "#importlib.reload(load_data)\n",
    "x = load_data.load_refl_data_all()"
   ]
  },
  {
   "cell_type": "code",
   "execution_count": 3,
   "metadata": {},
   "outputs": [],
   "source": [
    "print(x.shape)"
   ]
  },
  {
   "cell_type": "code",
   "execution_count": 5,
   "metadata": {},
   "outputs": [],
   "source": [
    "import xarray as xr\n",
    "dsx = xr.DataArray(x, name=\"refl\")"
   ]
  },
  {
   "cell_type": "code",
   "execution_count": 6,
   "metadata": {},
   "outputs": [],
   "source": [
    "# encoding={'refl': {'zlib': True, 'dtype': 'int16', 'scale_factor': 0.1, '_FillValue': -9999}}\n",
    "# encoding={'refl': {'_FillValue': -9999}}\n",
    "encoding={'refl': {'zlib': True, '_FillValue': -9999.0}}\n",
    "\n",
    "dsx.to_netcdf(\"/glade/work/hardt/ds612/CTRLradrefl-REFL.nc\", encoding=encoding)"
   ]
  },
  {
   "cell_type": "code",
   "execution_count": 12,
   "metadata": {},
   "outputs": [],
   "source": [
    "y = load_data.load_W_data_all(method=\"max\")"
   ]
  },
  {
   "cell_type": "code",
   "execution_count": 13,
   "metadata": {},
   "outputs": [
    {
     "name": "stdout",
     "output_type": "stream",
     "text": [
      "(9568, 256, 256)\n"
     ]
    }
   ],
   "source": [
    "print(y.shape)"
   ]
  },
  {
   "cell_type": "code",
   "execution_count": 14,
   "metadata": {},
   "outputs": [],
   "source": [
    "import xarray as xr\n",
    "dsy = xr.DataArray(y, name=\"maxW\")"
   ]
  },
  {
   "cell_type": "code",
   "execution_count": 16,
   "metadata": {},
   "outputs": [],
   "source": [
    "# encoding={'maxW': {'zlib': True, 'dtype': 'int16', 'scale_factor': 0.1, '_FillValue': -9999}}\n",
    "# encoding={'maxW': {'_FillValue': -9999}}\n",
    "encoding={'maxW': {'zlib': True, '_FillValue': -9999.0}}\n",
    "\n",
    "dsy.to_netcdf(\"/glade/work/hardt/ds612/CTRL3D-maxW.nc\", encoding=encoding)"
   ]
  },
  {
   "cell_type": "code",
   "execution_count": null,
   "metadata": {},
   "outputs": [],
   "source": []
  }
 ],
 "metadata": {
  "kernelspec": {
   "display_name": "Python 3",
   "language": "python",
   "name": "python3"
  },
  "language_info": {
   "codemirror_mode": {
    "name": "ipython",
    "version": 3
   },
   "file_extension": ".py",
   "mimetype": "text/x-python",
   "name": "python",
   "nbconvert_exporter": "python",
   "pygments_lexer": "ipython3",
   "version": "3.7.5"
  }
 },
 "nbformat": 4,
 "nbformat_minor": 4
}
