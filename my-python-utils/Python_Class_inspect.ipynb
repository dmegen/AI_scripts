{
 "cells": [
  {
   "cell_type": "code",
   "execution_count": 1,
   "metadata": {},
   "outputs": [],
   "source": [
    "import tensorflow as tf\n",
    "import datetime\n",
    "import inspect\n",
    "import sys\n",
    "from tensorflow.keras.optimizers import *"
   ]
  },
  {
   "cell_type": "code",
   "execution_count": 2,
   "metadata": {},
   "outputs": [
    {
     "data": {
      "text/plain": [
       "[('Adadelta', tensorflow.python.keras.optimizer_v2.adadelta.Adadelta),\n",
       " ('Adagrad', tensorflow.python.keras.optimizer_v2.adagrad.Adagrad),\n",
       " ('Adam', tensorflow.python.keras.optimizer_v2.adam.Adam),\n",
       " ('Adamax', tensorflow.python.keras.optimizer_v2.adamax.Adamax),\n",
       " ('Ftrl', tensorflow.python.keras.optimizer_v2.ftrl.Ftrl),\n",
       " ('Nadam', tensorflow.python.keras.optimizer_v2.nadam.Nadam),\n",
       " ('Optimizer', tensorflow.python.keras.optimizer_v2.optimizer_v2.OptimizerV2),\n",
       " ('RMSprop', tensorflow.python.keras.optimizer_v2.rmsprop.RMSprop),\n",
       " ('SGD', tensorflow.python.keras.optimizer_v2.gradient_descent.SGD)]"
      ]
     },
     "execution_count": 2,
     "metadata": {},
     "output_type": "execute_result"
    }
   ],
   "source": [
    "#inspect.getmembers(tf.keras.optimizers)\n",
    "inspect.getmembers(tf.keras.optimizers, inspect.isclass)\n",
    "#inspect.getmembers(tf.keras.optimizers, inspect.isfunction)"
   ]
  },
  {
   "cell_type": "code",
   "execution_count": 3,
   "metadata": {},
   "outputs": [
    {
     "data": {
      "text/plain": [
       "[('KLD',\n",
       "  <function tensorflow.python.keras.losses.kullback_leibler_divergence(y_true, y_pred)>),\n",
       " ('MAE',\n",
       "  <function tensorflow.python.keras.losses.mean_absolute_error(y_true, y_pred)>),\n",
       " ('MAPE',\n",
       "  <function tensorflow.python.keras.losses.mean_absolute_percentage_error(y_true, y_pred)>),\n",
       " ('MSE',\n",
       "  <function tensorflow.python.keras.losses.mean_squared_error(y_true, y_pred)>),\n",
       " ('MSLE',\n",
       "  <function tensorflow.python.keras.losses.mean_squared_logarithmic_error(y_true, y_pred)>),\n",
       " ('binary_crossentropy',\n",
       "  <function tensorflow.python.keras.losses.binary_crossentropy(y_true, y_pred, from_logits=False, label_smoothing=0)>),\n",
       " ('categorical_crossentropy',\n",
       "  <function tensorflow.python.keras.losses.categorical_crossentropy(y_true, y_pred, from_logits=False, label_smoothing=0)>),\n",
       " ('categorical_hinge',\n",
       "  <function tensorflow.python.keras.losses.categorical_hinge(y_true, y_pred)>),\n",
       " ('cosine_similarity',\n",
       "  <function tensorflow.python.keras.losses.cosine_similarity(y_true, y_pred, axis=-1)>),\n",
       " ('deserialize',\n",
       "  <function tensorflow.python.keras.losses.deserialize(name, custom_objects=None)>),\n",
       " ('get', <function tensorflow.python.keras.losses.get(identifier)>),\n",
       " ('hinge', <function tensorflow.python.keras.losses.hinge(y_true, y_pred)>),\n",
       " ('kld',\n",
       "  <function tensorflow.python.keras.losses.kullback_leibler_divergence(y_true, y_pred)>),\n",
       " ('kullback_leibler_divergence',\n",
       "  <function tensorflow.python.keras.losses.kullback_leibler_divergence(y_true, y_pred)>),\n",
       " ('logcosh',\n",
       "  <function tensorflow.python.keras.losses.logcosh(y_true, y_pred)>),\n",
       " ('mae',\n",
       "  <function tensorflow.python.keras.losses.mean_absolute_error(y_true, y_pred)>),\n",
       " ('mape',\n",
       "  <function tensorflow.python.keras.losses.mean_absolute_percentage_error(y_true, y_pred)>),\n",
       " ('mean_absolute_error',\n",
       "  <function tensorflow.python.keras.losses.mean_absolute_error(y_true, y_pred)>),\n",
       " ('mean_absolute_percentage_error',\n",
       "  <function tensorflow.python.keras.losses.mean_absolute_percentage_error(y_true, y_pred)>),\n",
       " ('mean_squared_error',\n",
       "  <function tensorflow.python.keras.losses.mean_squared_error(y_true, y_pred)>),\n",
       " ('mean_squared_logarithmic_error',\n",
       "  <function tensorflow.python.keras.losses.mean_squared_logarithmic_error(y_true, y_pred)>),\n",
       " ('mse',\n",
       "  <function tensorflow.python.keras.losses.mean_squared_error(y_true, y_pred)>),\n",
       " ('msle',\n",
       "  <function tensorflow.python.keras.losses.mean_squared_logarithmic_error(y_true, y_pred)>),\n",
       " ('poisson',\n",
       "  <function tensorflow.python.keras.losses.poisson(y_true, y_pred)>),\n",
       " ('serialize', <function tensorflow.python.keras.losses.serialize(loss)>),\n",
       " ('sparse_categorical_crossentropy',\n",
       "  <function tensorflow.python.keras.losses.sparse_categorical_crossentropy(y_true, y_pred, from_logits=False, axis=-1)>),\n",
       " ('squared_hinge',\n",
       "  <function tensorflow.python.keras.losses.squared_hinge(y_true, y_pred)>)]"
      ]
     },
     "execution_count": 3,
     "metadata": {},
     "output_type": "execute_result"
    }
   ],
   "source": [
    "inspect.getmembers(tf.keras.losses, inspect.isfunction)"
   ]
  },
  {
   "cell_type": "code",
   "execution_count": 4,
   "metadata": {},
   "outputs": [
    {
     "data": {
      "text/plain": [
       "[('AUC', tensorflow.python.keras.metrics.AUC),\n",
       " ('Accuracy', tensorflow.python.keras.metrics.Accuracy),\n",
       " ('BinaryAccuracy', tensorflow.python.keras.metrics.BinaryAccuracy),\n",
       " ('BinaryCrossentropy', tensorflow.python.keras.metrics.BinaryCrossentropy),\n",
       " ('CategoricalAccuracy', tensorflow.python.keras.metrics.CategoricalAccuracy),\n",
       " ('CategoricalCrossentropy',\n",
       "  tensorflow.python.keras.metrics.CategoricalCrossentropy),\n",
       " ('CategoricalHinge', tensorflow.python.keras.metrics.CategoricalHinge),\n",
       " ('CosineSimilarity', tensorflow.python.keras.metrics.CosineSimilarity),\n",
       " ('FalseNegatives', tensorflow.python.keras.metrics.FalseNegatives),\n",
       " ('FalsePositives', tensorflow.python.keras.metrics.FalsePositives),\n",
       " ('Hinge', tensorflow.python.keras.metrics.Hinge),\n",
       " ('KLDivergence', tensorflow.python.keras.metrics.KLDivergence),\n",
       " ('LogCoshError', tensorflow.python.keras.metrics.LogCoshError),\n",
       " ('Mean', tensorflow.python.keras.metrics.Mean),\n",
       " ('MeanAbsoluteError', tensorflow.python.keras.metrics.MeanAbsoluteError),\n",
       " ('MeanAbsolutePercentageError',\n",
       "  tensorflow.python.keras.metrics.MeanAbsolutePercentageError),\n",
       " ('MeanIoU', tensorflow.python.keras.metrics.MeanIoU),\n",
       " ('MeanRelativeError', tensorflow.python.keras.metrics.MeanRelativeError),\n",
       " ('MeanSquaredError', tensorflow.python.keras.metrics.MeanSquaredError),\n",
       " ('MeanSquaredLogarithmicError',\n",
       "  tensorflow.python.keras.metrics.MeanSquaredLogarithmicError),\n",
       " ('MeanTensor', tensorflow.python.keras.metrics.MeanTensor),\n",
       " ('Metric', tensorflow.python.keras.metrics.Metric),\n",
       " ('Poisson', tensorflow.python.keras.metrics.Poisson),\n",
       " ('Precision', tensorflow.python.keras.metrics.Precision),\n",
       " ('PrecisionAtRecall', tensorflow.python.keras.metrics.PrecisionAtRecall),\n",
       " ('Recall', tensorflow.python.keras.metrics.Recall),\n",
       " ('RootMeanSquaredError',\n",
       "  tensorflow.python.keras.metrics.RootMeanSquaredError),\n",
       " ('SensitivityAtSpecificity',\n",
       "  tensorflow.python.keras.metrics.SensitivityAtSpecificity),\n",
       " ('SparseCategoricalAccuracy',\n",
       "  tensorflow.python.keras.metrics.SparseCategoricalAccuracy),\n",
       " ('SparseCategoricalCrossentropy',\n",
       "  tensorflow.python.keras.metrics.SparseCategoricalCrossentropy),\n",
       " ('SparseTopKCategoricalAccuracy',\n",
       "  tensorflow.python.keras.metrics.SparseTopKCategoricalAccuracy),\n",
       " ('SpecificityAtSensitivity',\n",
       "  tensorflow.python.keras.metrics.SpecificityAtSensitivity),\n",
       " ('SquaredHinge', tensorflow.python.keras.metrics.SquaredHinge),\n",
       " ('Sum', tensorflow.python.keras.metrics.Sum),\n",
       " ('TopKCategoricalAccuracy',\n",
       "  tensorflow.python.keras.metrics.TopKCategoricalAccuracy),\n",
       " ('TrueNegatives', tensorflow.python.keras.metrics.TrueNegatives),\n",
       " ('TruePositives', tensorflow.python.keras.metrics.TruePositives)]"
      ]
     },
     "execution_count": 4,
     "metadata": {},
     "output_type": "execute_result"
    }
   ],
   "source": [
    "inspect.getmembers(tf.keras.metrics, inspect.isclass)"
   ]
  },
  {
   "cell_type": "code",
   "execution_count": null,
   "metadata": {},
   "outputs": [],
   "source": []
  }
 ],
 "metadata": {
  "kernelspec": {
   "display_name": "Python 3",
   "language": "python",
   "name": "python3"
  },
  "language_info": {
   "codemirror_mode": {
    "name": "ipython",
    "version": 3
   },
   "file_extension": ".py",
   "mimetype": "text/x-python",
   "name": "python",
   "nbconvert_exporter": "python",
   "pygments_lexer": "ipython3",
   "version": "3.7.5"
  }
 },
 "nbformat": 4,
 "nbformat_minor": 4
}
