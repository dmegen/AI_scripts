{
 "cells": [
  {
   "cell_type": "code",
   "execution_count": 1,
   "metadata": {},
   "outputs": [],
   "source": [
    "import xarray as xr\n",
    "from netCDF4 import Dataset\n",
    "import numpy as np\n",
    "import os\n",
    "import sys\n",
    "import matplotlib.pyplot as plt\n",
    "import load_data\n",
    "import wrf"
   ]
  },
  {
   "cell_type": "code",
   "execution_count": 2,
   "metadata": {},
   "outputs": [],
   "source": [
    "refl_yoffset = 256\n",
    "refl_xoffset = 185\n",
    "\n",
    "year = str(2012)\n",
    "\n",
    "# W, QVAPOR, U, V\n",
    "field = 'QVAPOR'"
   ]
  },
  {
   "cell_type": "code",
   "execution_count": 3,
   "metadata": {},
   "outputs": [],
   "source": [
    "#\n",
    "# read in the W data\n",
    "#\n",
    "\n",
    "input_W_data_path = '/glade/scratch/hardt/step/wrf3d'\n",
    "output_data_path = '/glade/work/hardt/data/model2/v1'\n",
    "\n",
    "#\n",
    "# for testing only get the one file.\n",
    "#\n",
    "#W_ds = xr.open_mfdataset(os.path.join(input_W_data_path, year, \"wrf3d_d01_2014-09-30_*\"), combine=\"nested\", concat_dim='Time')\n",
    "\n",
    "#\n",
    "# Read in all the data in the year directory.\n",
    "#\n",
    "W_ds = xr.open_mfdataset(os.path.join(input_W_data_path, year, \"wrf3d_d01*\"), combine=\"nested\", concat_dim='Time')\n"
   ]
  },
  {
   "cell_type": "code",
   "execution_count": 4,
   "metadata": {},
   "outputs": [
    {
     "name": "stdout",
     "output_type": "stream",
     "text": [
      "W_yoffset: 386\n",
      "W_xoffset: 745\n"
     ]
    }
   ],
   "source": [
    "W_yoffset = refl_yoffset + 130\n",
    "W_xoffset = refl_xoffset + 560\n",
    "\n",
    "print('W_yoffset:',W_yoffset)\n",
    "print('W_xoffset:',W_xoffset)\n"
   ]
  },
  {
   "cell_type": "code",
   "execution_count": 5,
   "metadata": {},
   "outputs": [
    {
     "name": "stdout",
     "output_type": "stream",
     "text": [
      "Loading QVAPOR data.\n",
      "(1224, 50, 256, 256)\n",
      "np.amin(VAR): 0.0\n",
      "np.percentile(VAR, 99.9): 0.019267503172159195\n"
     ]
    }
   ],
   "source": [
    "\n",
    "W_t = W_ds.XTIME.values\n",
    "\n",
    "#\n",
    "# start values determined in refl_ds.attrs history\n",
    "# ncks -O -dwest_east,560,1320 -dsouth_north,130,955\n",
    "#\n",
    "print('Loading', field, 'data.')\n",
    "\n",
    "#\n",
    "# get 3D data\n",
    "#\n",
    "# W - vertical wind\n",
    "# QVAPOR - Water vapor\n",
    "# U - U component of Wind\n",
    "# V - V component of Wind\n",
    "#\n",
    "if field == 'W':\n",
    "    VAR = W_ds.W[:,:,W_yoffset:W_yoffset+256,W_xoffset:W_xoffset+256].values\n",
    "elif field =='QVAPOR':\n",
    "    VAR = W_ds.QVAPOR[:,:,W_yoffset:W_yoffset+256,W_xoffset:W_xoffset+256].values\n",
    "elif field =='U':\n",
    "    VAR = W_ds.U[:,:,W_yoffset:W_yoffset+256,W_xoffset:W_xoffset+256].values\n",
    "elif field =='V':\n",
    "    VAR = W_ds.V[:,:,W_yoffset:W_yoffset+256,W_xoffset:W_xoffset+256].values\n",
    "else:\n",
    "    print(\"Field\", field, \"not an option.\")\n",
    "    \n",
    "#\n",
    "# Use this to get composite data\n",
    "#\n",
    "#W = W_ds.W[:,:,W_yoffset:W_yoffset+256,W_xoffset:W_xoffset+256].values.max(axis=1)\n",
    "\n",
    "print(VAR.shape)\n",
    "print('np.amin(VAR):',np.amin(VAR))\n",
    "print('np.percentile(VAR, 99.9):',np.percentile(VAR, 99.9))\n"
   ]
  },
  {
   "cell_type": "code",
   "execution_count": 6,
   "metadata": {},
   "outputs": [
    {
     "name": "stdout",
     "output_type": "stream",
     "text": [
      "Writing QVAPOR data to /glade/work/hardt/data/model2/v1/model2-v1_2012_3D_QVAPOR.nc\n",
      "Done\n"
     ]
    }
   ],
   "source": [
    "\n",
    "output_data = os.path.join(output_data_path, \"model2-v1_\" + year + '_3D_' + field + '.nc')\n",
    "\n",
    "W_OUT = xr.DataArray(VAR, name=field)\n",
    "encoding={field: {'zlib': True, '_FillValue': -99.0}}\n",
    "\n",
    "W_XTIME = xr.DataArray(W_t, name='XTIME')\n",
    "\n",
    "print(\"Writing\", field, \"data to\", output_data)\n",
    "W_OUT.to_netcdf(output_data, encoding=encoding)\n",
    "W_XTIME.to_netcdf(output_data, mode='a')\n",
    "\n",
    "del VAR\n",
    "del W_OUT\n",
    "del W_ds\n",
    "\n",
    "print(\"Done\")"
   ]
  },
  {
   "cell_type": "code",
   "execution_count": null,
   "metadata": {},
   "outputs": [],
   "source": []
  }
 ],
 "metadata": {
  "kernelspec": {
   "display_name": "Python 3",
   "language": "python",
   "name": "python3"
  },
  "language_info": {
   "codemirror_mode": {
    "name": "ipython",
    "version": 3
   },
   "file_extension": ".py",
   "mimetype": "text/x-python",
   "name": "python",
   "nbconvert_exporter": "python",
   "pygments_lexer": "ipython3",
   "version": "3.7.5"
  }
 },
 "nbformat": 4,
 "nbformat_minor": 4
}
