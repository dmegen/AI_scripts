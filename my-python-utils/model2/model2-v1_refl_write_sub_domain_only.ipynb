{
 "cells": [
  {
   "cell_type": "code",
   "execution_count": 1,
   "metadata": {},
   "outputs": [],
   "source": [
    "import xarray as xr\n",
    "from netCDF4 import Dataset\n",
    "import numpy as np\n",
    "import os\n",
    "import sys\n",
    "import matplotlib.pyplot as plt\n",
    "import load_data\n",
    "import wrf"
   ]
  },
  {
   "cell_type": "code",
   "execution_count": 2,
   "metadata": {},
   "outputs": [],
   "source": [
    "refl_yoffset = 256\n",
    "refl_xoffset = 185\n",
    "\n",
    "year = str(2015)"
   ]
  },
  {
   "cell_type": "code",
   "execution_count": 3,
   "metadata": {},
   "outputs": [
    {
     "name": "stdout",
     "output_type": "stream",
     "text": [
      "/glade/scratch/hardt/step/wrf5mn/2015/wrf5mn*\n"
     ]
    }
   ],
   "source": [
    "input_refl_data_path = '/glade/scratch/hardt/step/wrf5mn'\n",
    "output_data_path = '/glade/work/hardt/data/model2'\n",
    "\n",
    "files = os.path.join(input_refl_data_path, year, \"wrf5mn*\")\n",
    "print(files)"
   ]
  },
  {
   "cell_type": "code",
   "execution_count": 4,
   "metadata": {},
   "outputs": [],
   "source": [
    "refl_ds = xr.open_mfdataset(files, combine=\"nested\", concat_dim='Time')"
   ]
  },
  {
   "cell_type": "code",
   "execution_count": 5,
   "metadata": {},
   "outputs": [
    {
     "name": "stdout",
     "output_type": "stream",
     "text": [
      "(1224, 50, 256, 256)\n"
     ]
    }
   ],
   "source": [
    "#\n",
    "# 0 minute offset\n",
    "#\n",
    "refl = refl_ds.REFL_10CM[0::36,:,refl_yoffset:refl_yoffset+256,refl_xoffset:refl_xoffset+256].values\n",
    "refl_t = refl_ds.XTIME[0::36].values\n",
    "print(refl.shape)"
   ]
  },
  {
   "cell_type": "code",
   "execution_count": 6,
   "metadata": {},
   "outputs": [
    {
     "name": "stdout",
     "output_type": "stream",
     "text": [
      "Writing REFL_10CM data to /glade/work/hardt/data/model2/model2-v1_2015_00minuteAfterHour_3D_refl.nc\n",
      "DONE writing REFL_OUT.\n"
     ]
    }
   ],
   "source": [
    "output_data = os.path.join(output_data_path, 'model2-v1_' + year + '_00minuteAfterHour_3D_refl.nc')\n",
    "\n",
    "REFL_OUT = xr.DataArray(refl, name='REFL_10CM')\n",
    "encoding={'REFL_10CM': {'zlib': True, '_FillValue': -99.0}}\n",
    "\n",
    "REFL_XTIME = xr.DataArray(refl_t, name='XTIME')\n",
    "\n",
    "print(\"Writing REFL_10CM data to\", output_data)\n",
    "REFL_OUT.to_netcdf(output_data, encoding=encoding)\n",
    "REFL_XTIME.to_netcdf(output_data, mode='a')\n",
    "\n",
    "del refl\n",
    "del refl_t\n",
    "del REFL_OUT\n",
    "del REFL_XTIME\n",
    "\n",
    "print('DONE writing REFL_OUT.')\n"
   ]
  },
  {
   "cell_type": "code",
   "execution_count": 7,
   "metadata": {},
   "outputs": [
    {
     "name": "stdout",
     "output_type": "stream",
     "text": [
      "(1224, 50, 256, 256)\n"
     ]
    }
   ],
   "source": [
    "#\n",
    "# 5 minute offset\n",
    "#\n",
    "refl = refl_ds.REFL_10CM[1::36,:,refl_yoffset:refl_yoffset+256,refl_xoffset:refl_xoffset+256].values\n",
    "refl_t = refl_ds.XTIME[1::36].values\n",
    "print(refl.shape)"
   ]
  },
  {
   "cell_type": "code",
   "execution_count": 8,
   "metadata": {},
   "outputs": [
    {
     "name": "stdout",
     "output_type": "stream",
     "text": [
      "Writing REFL_10CM data to /glade/work/hardt/data/model2/model2-v1_2015_05minuteAfterHour_3D_refl.nc\n",
      "DONE writing REFL_OUT.\n"
     ]
    }
   ],
   "source": [
    "output_data = os.path.join(output_data_path, 'model2-v1_' + year + '_05minuteAfterHour_3D_refl.nc')\n",
    "\n",
    "REFL_OUT = xr.DataArray(refl, name='REFL_10CM')\n",
    "encoding={'REFL_10CM': {'zlib': True, '_FillValue': -99.0}}\n",
    "\n",
    "REFL_XTIME = xr.DataArray(refl_t, name='XTIME')\n",
    "\n",
    "print(\"Writing REFL_10CM data to\", output_data)\n",
    "REFL_OUT.to_netcdf(output_data, encoding=encoding)\n",
    "REFL_XTIME.to_netcdf(output_data, mode='a')\n",
    "\n",
    "del refl\n",
    "del refl_t\n",
    "del REFL_OUT\n",
    "del REFL_XTIME\n",
    "\n",
    "print('DONE writing REFL_OUT.')\n"
   ]
  },
  {
   "cell_type": "code",
   "execution_count": 9,
   "metadata": {},
   "outputs": [
    {
     "name": "stdout",
     "output_type": "stream",
     "text": [
      "(1224, 50, 256, 256)\n"
     ]
    }
   ],
   "source": [
    "#\n",
    "# 10 minute offset\n",
    "#\n",
    "refl = refl_ds.REFL_10CM[2::36,:,refl_yoffset:refl_yoffset+256,refl_xoffset:refl_xoffset+256].values\n",
    "refl_t = refl_ds.XTIME[2::36].values\n",
    "print(refl.shape)"
   ]
  },
  {
   "cell_type": "code",
   "execution_count": 10,
   "metadata": {},
   "outputs": [
    {
     "name": "stdout",
     "output_type": "stream",
     "text": [
      "Writing REFL_10CM data to /glade/work/hardt/data/model2/model2-v1_2015_10minuteAfterHour_3D_refl.nc\n",
      "DONE writing REFL_OUT.\n"
     ]
    }
   ],
   "source": [
    "output_data = os.path.join(output_data_path, 'model2-v1_' + year + '_10minuteAfterHour_3D_refl.nc')\n",
    "\n",
    "REFL_OUT = xr.DataArray(refl, name='REFL_10CM')\n",
    "encoding={'REFL_10CM': {'zlib': True, '_FillValue': -99.0}}\n",
    "\n",
    "REFL_XTIME = xr.DataArray(refl_t, name='XTIME')\n",
    "\n",
    "print(\"Writing REFL_10CM data to\", output_data)\n",
    "REFL_OUT.to_netcdf(output_data, encoding=encoding)\n",
    "REFL_XTIME.to_netcdf(output_data, mode='a')\n",
    "\n",
    "del refl\n",
    "del refl_t\n",
    "del REFL_OUT\n",
    "del REFL_XTIME\n",
    "\n",
    "print('DONE writing REFL_OUT.')\n"
   ]
  },
  {
   "cell_type": "code",
   "execution_count": 11,
   "metadata": {},
   "outputs": [
    {
     "name": "stdout",
     "output_type": "stream",
     "text": [
      "(1224, 50, 256, 256)\n"
     ]
    }
   ],
   "source": [
    "#\n",
    "# 15 minute offset\n",
    "#\n",
    "refl = refl_ds.REFL_10CM[2::36,:,refl_yoffset:refl_yoffset+256,refl_xoffset:refl_xoffset+256].values\n",
    "refl_t = refl_ds.XTIME[2::36].values\n",
    "print(refl.shape)"
   ]
  },
  {
   "cell_type": "code",
   "execution_count": 12,
   "metadata": {},
   "outputs": [
    {
     "name": "stdout",
     "output_type": "stream",
     "text": [
      "Writing REFL_10CM data to /glade/work/hardt/data/model2/model2-v1_2015_15minuteAfterHour_3D_refl.nc\n",
      "DONE writing REFL_OUT.\n"
     ]
    }
   ],
   "source": [
    "output_data = os.path.join(output_data_path, 'model2-v1_' + year + '_15minuteAfterHour_3D_refl.nc')\n",
    "\n",
    "REFL_OUT = xr.DataArray(refl, name='REFL_10CM')\n",
    "encoding={'REFL_10CM': {'zlib': True, '_FillValue': -99.0}}\n",
    "\n",
    "REFL_XTIME = xr.DataArray(refl_t, name='XTIME')\n",
    "\n",
    "print(\"Writing REFL_10CM data to\", output_data)\n",
    "REFL_OUT.to_netcdf(output_data, encoding=encoding)\n",
    "REFL_XTIME.to_netcdf(output_data, mode='a')\n",
    "\n",
    "del refl\n",
    "del refl_t\n",
    "del REFL_OUT\n",
    "del REFL_XTIME\n",
    "\n",
    "print('DONE writing REFL_OUT.')\n"
   ]
  },
  {
   "cell_type": "code",
   "execution_count": null,
   "metadata": {},
   "outputs": [],
   "source": []
  }
 ],
 "metadata": {
  "kernelspec": {
   "display_name": "Python 3",
   "language": "python",
   "name": "python3"
  },
  "language_info": {
   "codemirror_mode": {
    "name": "ipython",
    "version": 3
   },
   "file_extension": ".py",
   "mimetype": "text/x-python",
   "name": "python",
   "nbconvert_exporter": "python",
   "pygments_lexer": "ipython3",
   "version": "3.7.5"
  }
 },
 "nbformat": 4,
 "nbformat_minor": 4
}
