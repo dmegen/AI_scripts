{
 "cells": [
  {
   "cell_type": "code",
   "execution_count": 1,
   "metadata": {},
   "outputs": [],
   "source": [
    "import tensorflow as tf\n",
    "import xarray as xr\n",
    "import numpy as np\n",
    "import os\n",
    "import sys\n",
    "from scipy.ndimage import gaussian_filter"
   ]
  },
  {
   "cell_type": "code",
   "execution_count": 16,
   "metadata": {},
   "outputs": [],
   "source": [
    "############################\n",
    "# set up the run information\n",
    "############################\n",
    "output_root_directory = '/glade/work/hardt/models'\n",
    "model_run_name        = 'test2'\n",
    "input_model_name      = 'start_model_v2.h5'\n",
    "output_model_name     = 'trained_model_s1_{}.h5'\n",
    "\n",
    "feature_data          = '/glade/work/hardt/ds612/2000-2013_June-Sept_CTRLradrefl_REFL.nc'\n",
    "label_data            = '/glade/work/hardt/ds612/2000-2013_June-Sept_CTRL3D_maxW.nc'\n",
    "############################\n",
    "\n",
    "output_path = os.path.join(output_root_directory, model_run_name)\n",
    "if not os.path.exists(output_path):\n",
    "    os.makedirs(output_path)"
   ]
  },
  {
   "cell_type": "code",
   "execution_count": 17,
   "metadata": {},
   "outputs": [],
   "source": [
    "#\n",
    "# set up the model\n",
    "#\n",
    "from model import unet\n",
    "\n",
    "input_model = os.path.join(output_path, input_model_name)\n",
    "output_model = os.path.join(output_path, output_model_name)\n",
    "\n",
    "if not os.path.isfile(input_model):\n",
    "    test_model = unet()\n",
    "    test_model.save(input_model)"
   ]
  },
  {
   "cell_type": "code",
   "execution_count": 54,
   "metadata": {},
   "outputs": [],
   "source": [
    "#\n",
    "# load the data\n",
    "#\n",
    "xds = xr.open_dataset(feature_data)\n",
    "yds = xr.open_dataset(label_data)\n",
    "x = xds.refl.values\n",
    "y = yds.maxW.values\n",
    "\n",
    "y = gaussian_filter(y, sigma=1)\n",
    "y[y<2.0]=0"
   ]
  },
  {
   "cell_type": "code",
   "execution_count": 55,
   "metadata": {},
   "outputs": [],
   "source": [
    "train_dataset = tf.data.Dataset.from_tensor_slices((x[0:6112,:,:,np.newaxis], y[0:6112,:,:,np.newaxis]))\n",
    "val_dataset = tf.data.Dataset.from_tensor_slices((x[6113:7649,:,:,np.newaxis], y[6113:7649,:,:,np.newaxis]))"
   ]
  },
  {
   "cell_type": "code",
   "execution_count": 56,
   "metadata": {},
   "outputs": [
    {
     "name": "stdout",
     "output_type": "stream",
     "text": [
      "<TensorSliceDataset shapes: ((256, 256, 1), (256, 256, 1)), types: (tf.float32, tf.float32)>\n"
     ]
    }
   ],
   "source": [
    "print(train_dataset)"
   ]
  },
  {
   "cell_type": "code",
   "execution_count": 57,
   "metadata": {},
   "outputs": [],
   "source": [
    "BATCH_SIZE = 32\n",
    "SHUFFLE_BUFFER_SIZE = 6112\n",
    "\n",
    "train_dataset = train_dataset.shuffle(SHUFFLE_BUFFER_SIZE, reshuffle_each_iteration=True).batch(BATCH_SIZE, drop_remainder=True)\n",
    "val_dataset = val_dataset.batch(BATCH_SIZE, drop_remainder=True)"
   ]
  },
  {
   "cell_type": "code",
   "execution_count": 58,
   "metadata": {},
   "outputs": [
    {
     "name": "stdout",
     "output_type": "stream",
     "text": [
      "<BatchDataset shapes: ((32, 256, 256, 1), (32, 256, 256, 1)), types: (tf.float32, tf.float32)>\n"
     ]
    }
   ],
   "source": [
    "print(train_dataset)"
   ]
  },
  {
   "cell_type": "code",
   "execution_count": 59,
   "metadata": {},
   "outputs": [
    {
     "data": {
      "text/plain": [
       "191"
      ]
     },
     "execution_count": 59,
     "metadata": {},
     "output_type": "execute_result"
    }
   ],
   "source": [
    "len(list(train_dataset))"
   ]
  },
  {
   "cell_type": "code",
   "execution_count": 60,
   "metadata": {},
   "outputs": [],
   "source": [
    "model = tf.keras.models.load_model(input_model)"
   ]
  },
  {
   "cell_type": "code",
   "execution_count": 61,
   "metadata": {},
   "outputs": [
    {
     "name": "stdout",
     "output_type": "stream",
     "text": [
      "Train for 191 steps, validate for 48 steps\n",
      "Epoch 1/5\n",
      "191/191 [==============================] - 130s 683ms/step - loss: 0.0047 - accuracy: 0.9995 - val_loss: 0.0048 - val_accuracy: 0.9994\n",
      "Epoch 2/5\n",
      "191/191 [==============================] - 130s 681ms/step - loss: 0.0032 - accuracy: 0.9996 - val_loss: 0.0047 - val_accuracy: 0.9994\n",
      "Epoch 3/5\n",
      "191/191 [==============================] - 130s 681ms/step - loss: 0.0032 - accuracy: 0.9996 - val_loss: 0.0047 - val_accuracy: 0.9994\n",
      "Epoch 4/5\n",
      "191/191 [==============================] - 130s 681ms/step - loss: 0.0032 - accuracy: 0.9996 - val_loss: 0.0047 - val_accuracy: 0.9994\n",
      "Epoch 5/5\n",
      "191/191 [==============================] - 130s 681ms/step - loss: 0.0032 - accuracy: 0.9996 - val_loss: 0.0047 - val_accuracy: 0.9994\n"
     ]
    },
    {
     "data": {
      "text/plain": [
       "<tensorflow.python.keras.callbacks.History at 0x2aec840140d0>"
      ]
     },
     "execution_count": 61,
     "metadata": {},
     "output_type": "execute_result"
    }
   ],
   "source": [
    "# model.fit(train_dataset, epochs=5)\n",
    "model.fit(train_dataset, epochs=5, validation_data=val_dataset)"
   ]
  },
  {
   "cell_type": "code",
   "execution_count": 62,
   "metadata": {},
   "outputs": [],
   "source": [
    "#\n",
    "# write out the trained model\n",
    "#\n",
    "import time\n",
    "t = time.localtime()\n",
    "d = [str(k) for k in t]\n",
    "model.save(output_model.format(\"_\".join(d[:5])))"
   ]
  },
  {
   "cell_type": "code",
   "execution_count": null,
   "metadata": {},
   "outputs": [],
   "source": []
  }
 ],
 "metadata": {
  "kernelspec": {
   "display_name": "Python 3",
   "language": "python",
   "name": "python3"
  },
  "language_info": {
   "codemirror_mode": {
    "name": "ipython",
    "version": 3
   },
   "file_extension": ".py",
   "mimetype": "text/x-python",
   "name": "python",
   "nbconvert_exporter": "python",
   "pygments_lexer": "ipython3",
   "version": "3.7.5"
  }
 },
 "nbformat": 4,
 "nbformat_minor": 4
}
