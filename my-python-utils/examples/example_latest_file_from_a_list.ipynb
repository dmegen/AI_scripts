{
 "cells": [
  {
   "cell_type": "code",
   "execution_count": 30,
   "metadata": {},
   "outputs": [],
   "source": [
    "import glob\n",
    "import os"
   ]
  },
  {
   "cell_type": "code",
   "execution_count": 31,
   "metadata": {},
   "outputs": [],
   "source": [
    "path = '/glade/work/hardt/models/unet_v1'"
   ]
  },
  {
   "cell_type": "code",
   "execution_count": 32,
   "metadata": {},
   "outputs": [
    {
     "name": "stdout",
     "output_type": "stream",
     "text": [
      "/glade/work/hardt/models/unet_v1/trained_model_s5_2020_5_27_20_1.h5\n"
     ]
    }
   ],
   "source": [
    "\n",
    "list_of_files = glob.glob(os.path.join(path, 'trained_model_*.h5'))\n",
    "try:\n",
    "    filename = max(list_of_files, key=os.path.getctime)\n",
    "    print(filename)\n",
    "except:\n",
    "    filename = \"trained_model_start.h5\"\n",
    "    print(filename)\n"
   ]
  },
  {
   "cell_type": "code",
   "execution_count": 58,
   "metadata": {},
   "outputs": [
    {
     "name": "stdout",
     "output_type": "stream",
     "text": [
      "2020_05_29_16_42\n"
     ]
    }
   ],
   "source": [
    "import time\n",
    "\n",
    "t = time.strftime(\"%Y_%m_%d_%H_%M\", time.localtime())\n",
    "print(t)\n",
    "output_model_name     = 'trained_model_{}.h5'"
   ]
  },
  {
   "cell_type": "code",
   "execution_count": 59,
   "metadata": {},
   "outputs": [
    {
     "name": "stdout",
     "output_type": "stream",
     "text": [
      "/glade/work/hardt/models/unet_v1/trained_model_2020_05_29_16_42.h5\n"
     ]
    }
   ],
   "source": [
    "file = os.path.join(path, output_model_name.format(t))\n",
    "print(file)"
   ]
  }
 ],
 "metadata": {
  "kernelspec": {
   "display_name": "Python 3",
   "language": "python",
   "name": "python3"
  },
  "language_info": {
   "codemirror_mode": {
    "name": "ipython",
    "version": 3
   },
   "file_extension": ".py",
   "mimetype": "text/x-python",
   "name": "python",
   "nbconvert_exporter": "python",
   "pygments_lexer": "ipython3",
   "version": "3.7.5"
  }
 },
 "nbformat": 4,
 "nbformat_minor": 4
}
