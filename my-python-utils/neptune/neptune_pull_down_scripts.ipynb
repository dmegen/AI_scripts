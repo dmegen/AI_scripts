{
 "cells": [
  {
   "cell_type": "code",
   "execution_count": 1,
   "metadata": {},
   "outputs": [],
   "source": [
    "import neptune\n",
    "import os\n",
    "import subprocess"
   ]
  },
  {
   "cell_type": "code",
   "execution_count": 2,
   "metadata": {},
   "outputs": [
    {
     "name": "stderr",
     "output_type": "stream",
     "text": [
      "WARNING: There is a new version of neptune-client 0.9.1 (installed: 0.4.133).\n"
     ]
    },
    {
     "name": "stdout",
     "output_type": "stream",
     "text": [
      "predict-unet_model_v6p1_1.py\n",
      "sbatch-predict-unet_model_v6p1_1.csh\n",
      "predict_plot_comps_v6p1_1.ipynb\n",
      "\n",
      "unet_model_v6p1_1.py\n",
      "train-unet_model_v6p1_1.py\n",
      "sbatch-train-unet_model_v6p1_1.csh\n"
     ]
    }
   ],
   "source": [
    "#\n",
    "# Pull down the source files from the artifacts area\n",
    "#\n",
    "# Get project\n",
    "#\n",
    "project = neptune.init('hardt/Pred-W-RefOffset')\n",
    "my_exp = project.get_experiments(id='TOFFSET-46')[0]\n",
    "\n",
    "#\n",
    "# version to pull down\n",
    "#\n",
    "version = 'v6p1_1'\n",
    "\n",
    "#\n",
    "# destination directory\n",
    "#\n",
    "dest_dir = '/glade/u/home/hardt/AI_scripts'\n",
    "#\n",
    "if not os.path.exists(dest_dir):\n",
    "    os.makedirs(dest_dir)\n",
    "\n",
    "\n",
    "prediction_dir = 'prediction/sources'\n",
    "training_dir = 'training/sources'\n",
    "\n",
    "prediction_py         = 'predict-unet_model_' + version + '.py'\n",
    "prediction_csh        = 'sbatch-predict-unet_model_' + version + '.csh'\n",
    "prediction_plt_ipynb  = 'predict_plot_comps_' + version + '.ipynb'\n",
    "\n",
    "model_py    = 'unet_model_' + version + '.py'\n",
    "train_py   = 'train-unet_model_' + version + '.py'\n",
    "train_csh  = 'sbatch-train-unet_model_' + version + '.csh'\n",
    "\n",
    "\n",
    "print(prediction_py)\n",
    "print(prediction_csh)\n",
    "print(prediction_plt_ipynb)\n",
    "print()\n",
    "print(model_py)\n",
    "print(train_py)\n",
    "print(train_csh)"
   ]
  },
  {
   "cell_type": "code",
   "execution_count": 3,
   "metadata": {},
   "outputs": [
    {
     "name": "stdout",
     "output_type": "stream",
     "text": [
      "CompletedProcess(args=['mv', '/glade/u/home/hardt/AI_scripts/sources.zip', '/glade/u/home/hardt/AI_scripts/pred_v6p1_1_sources.zip'], returncode=0)\n",
      "CompletedProcess(args=['mv', '/glade/u/home/hardt/AI_scripts/sources.zip', '/glade/u/home/hardt/AI_scripts/train_v6p1_1_sources.zip'], returncode=0)\n"
     ]
    }
   ],
   "source": [
    "#\n",
    "my_exp.download_artifacts( prediction_dir, destination_dir=dest_dir)\n",
    "process = subprocess.run( ['mv', os.path.join(dest_dir, 'sources.zip'), os.path.join(dest_dir, 'pred_' + version + '_sources.zip') ] )\n",
    "print(process)\n",
    "#\n",
    "my_exp.download_artifacts( training_dir, destination_dir=dest_dir)\n",
    "process = subprocess.run( ['mv', os.path.join(dest_dir, 'sources.zip'), os.path.join(dest_dir, 'train_' + version + '_sources.zip') ] )\n",
    "print(process)\n",
    "#\n",
    "#my_exp.download_artifacts( os.path.join(prediction_dir, prediction_py), destination_dir=dest_dir)\n",
    "#my_exp.download_artifacts( os.path.join(prediction_dir, prediction_csh), destination_dir=dest_dir)\n",
    "#my_exp.download_artifacts( os.path.join(prediction_dir, prediction_plt_ipynb), destination_dir=dest_dir)\n",
    "#\n",
    "#my_exp.download_artifacts( os.path.join(training_dir, model_py), destination_dir=dest_dir)\n",
    "#my_exp.download_artifacts( os.path.join(training_dir,train_py), destination_dir=dest_dir)\n",
    "#my_exp.download_artifacts( os.path.join(training_dir, train_csh), destination_dir=dest_dir)\n",
    "#"
   ]
  },
  {
   "cell_type": "code",
   "execution_count": null,
   "metadata": {},
   "outputs": [],
   "source": []
  }
 ],
 "metadata": {
  "kernelspec": {
   "display_name": "Python 3",
   "language": "python",
   "name": "python3"
  },
  "language_info": {
   "codemirror_mode": {
    "name": "ipython",
    "version": 3
   },
   "file_extension": ".py",
   "mimetype": "text/x-python",
   "name": "python",
   "nbconvert_exporter": "python",
   "pygments_lexer": "ipython3",
   "version": "3.7.5"
  }
 },
 "nbformat": 4,
 "nbformat_minor": 4
}
