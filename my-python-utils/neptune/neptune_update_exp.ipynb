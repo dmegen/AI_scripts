{
 "cells": [
  {
   "cell_type": "code",
   "execution_count": 1,
   "metadata": {},
   "outputs": [],
   "source": [
    "import neptune"
   ]
  },
  {
   "cell_type": "code",
   "execution_count": 2,
   "metadata": {},
   "outputs": [],
   "source": [
    "# Get project\n",
    "project = neptune.init('hardt/Pred-W-RefOffset')\n",
    "\n",
    "# Get experiment object for appropriate experiment, here 'SHOW-2066'\n",
    "my_exp = project.get_experiments(id='TOFFSET-70')[0]\n"
   ]
  },
  {
   "cell_type": "code",
   "execution_count": 3,
   "metadata": {},
   "outputs": [],
   "source": [
    "# Log metrics, images, text\n",
    "#my_exp.log_metric(...)\n",
    "#my_exp.log_image(...)\n",
    "#my_exp.log_text(...)\n",
    "\n",
    "# Append tag\n",
    "#my_exp.append_tag('updated')\n",
    "\n",
    "# Log new chart\n",
    "#log_chart('matplotlib-interactive', fig, my_exp)\n",
    "\n",
    "# send image\n",
    "#my_exp.log_artifact('/glade/work/hardt/models/unet_v6p0/images2_v5/20150529_2100-predict-test-2021_01_25_11_27.png', 'prediction/images/20150529_2100-predict-test-2021_01_25_11_27.png')\n",
    "#\n",
    "#my_exp.log_artifact('/glade/u/home/hardt/AI_scripts/predict-unet_model_v6p0-2.py', 'prediction/sources/predict-unet_model_v6p0-2.py')\n",
    "#my_exp.log_artifact('/glade/u/home/hardt/AI_scripts/my-python-utils/predict_plot_comps_v6p0-2.ipynb', 'prediction/sources/predict_plot_comps_v6p0-2.ipynb')\n",
    "#\n",
    "my_exp.log_artifact('/glade/work/hardt/models/unet_v6p0/source/train-unet_model_v6p0-2.py', 'training/sources/train-unet_model_v6p0-2.py')\n",
    "my_exp.log_artifact('/glade/work/hardt/models/unet_v6p0/source/unet_model_v6p0-2.py', 'training/sources/unet_model_v6p0-2.py')\n",
    "my_exp.log_artifact('/glade/work/hardt/models/unet_v6p0/source/sbatch-train-unet_model_v6p0-2.csh', 'training/sources/sbatch-train-unet_model_v6p0-2.csh')\n",
    "my_exp.log_artifact('/glade/work/hardt/models/unet_v6p0/source/sbatch-predict-unet_model_v6p0-2.csh', 'prediction/sources/sbatch-predict-unet_model_v6p0-2.csh')\n",
    "#\n",
    "#my_exp.delete_artifacts('prediction/sources/predict-unet_model_v6p0-70.py')\n",
    "#my_exp.delete_artifacts('prediction/sources/predict_plot_comps_v6p0-70.ipynb')\n",
    "#\n",
    "#my_exp.delete_artifacts('20150529_2100-predict-test-2021_01_25_11_27.png')\n",
    "#my_exp.delete_artifacts('prediction/source')\n",
    "#\n",
    "#my_exp.download_sources(destination_dir='/glade/work/hardt/models/unet_v6p0')\n",
    "#download_artifacts('prediction/sources/predict-unet_model_v6p0-2.py', destination_dir='/glade/u/home/hardt/AI_scripts')\n",
    "\n",
    "\n",
    "#\n",
    "#neptune_upload_source_files = ['/glade/u/home/hardt/AI_scripts/predict-unet_model_v6p0.py']\n"
   ]
  },
  {
   "cell_type": "code",
   "execution_count": null,
   "metadata": {},
   "outputs": [],
   "source": []
  }
 ],
 "metadata": {
  "kernelspec": {
   "display_name": "Python 3",
   "language": "python",
   "name": "python3"
  },
  "language_info": {
   "codemirror_mode": {
    "name": "ipython",
    "version": 3
   },
   "file_extension": ".py",
   "mimetype": "text/x-python",
   "name": "python",
   "nbconvert_exporter": "python",
   "pygments_lexer": "ipython3",
   "version": "3.7.5"
  }
 },
 "nbformat": 4,
 "nbformat_minor": 4
}
