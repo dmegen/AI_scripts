{
 "cells": [
  {
   "cell_type": "code",
   "execution_count": 1,
   "metadata": {},
   "outputs": [],
   "source": [
    "import neptune\n",
    "import os"
   ]
  },
  {
   "cell_type": "code",
   "execution_count": 2,
   "metadata": {},
   "outputs": [],
   "source": [
    "####################################################\n",
    "# Get experiment object for appropriate experiment, here 'SHOW-2066'\n",
    "####################################################\n",
    "#\n",
    "project = neptune.init('hardt/Pred-W-RefOffset')\n",
    "my_exp = project.get_experiments(id='TOFFSET-76')[0]\n",
    "#\n",
    "model = 'v6p0'\n",
    "version = model + '_4'\n",
    "#\n",
    "image_file = '20150529_2100-predict-test-2021_02_06_04_17.png'\n",
    "#\n",
    "####################################################\n",
    "#\n",
    "image_dir = '/glade/work/hardt/models/unet_' + model + '/images_unet_' + version\n",
    "script_dir = '/glade/u/home/hardt/AI_scripts'\n",
    "#\n",
    "prediction_dir = 'prediction/sources'\n",
    "training_dir = 'training/sources'\n",
    "#\n",
    "prediction_py         = 'predict-unet_model_' + version + '.py'\n",
    "prediction_csh        = 'sbatch-predict-unet_model_' + version + '.csh'\n",
    "prediction_plt_ipynb  = 'predict_plot_comps_' + version + '.ipynb'\n",
    "#\n",
    "model_py    = 'unet_model_' + version + '.py'\n",
    "train_py   = 'train-unet_model_' + version + '.py'\n",
    "train_csh  = 'sbatch-train-unet_model_' + version + '.csh'\n",
    "#"
   ]
  },
  {
   "cell_type": "code",
   "execution_count": 3,
   "metadata": {},
   "outputs": [
    {
     "name": "stdout",
     "output_type": "stream",
     "text": [
      "Experiment(TOFFSET-76)\n",
      "/glade/work/hardt/models/unet_v6p0/images_unet_v6p0_4\n"
     ]
    }
   ],
   "source": [
    "print(my_exp)\n",
    "print(image_dir)"
   ]
  },
  {
   "cell_type": "code",
   "execution_count": null,
   "metadata": {},
   "outputs": [],
   "source": [
    "#\n",
    "# run these first\n",
    "#\n",
    "#my_exp.download_artifacts(image_file, destination_dir=dest_dir)\n",
    "#my_exp.delete_artifacts(image_file)\n"
   ]
  },
  {
   "cell_type": "code",
   "execution_count": null,
   "metadata": {},
   "outputs": [],
   "source": [
    "#\n",
    "# unzip the file then run this\n",
    "#\n",
    "#my_exp.log_artifact( os.path.join(dest_dir, image_file) , 'prediction/images/' + image_file)\n",
    "#my_exp.log_artifact( os.path.join('/glade/work/hardt/models/unet_v6p0/images2', image_file) , 'prediction/images/' + image_file)\n"
   ]
  },
  {
   "cell_type": "code",
   "execution_count": null,
   "metadata": {},
   "outputs": [],
   "source": [
    "#\n",
    "# download the source file\n",
    "#\n",
    "#my_exp.download_sources(destination_dir=dest_dir)\n",
    "#\n",
    "# unzip them, rename them to the new version number\n",
    "# edit the files\n",
    "# copy un sbatch train, sbatch predict, predict py, and image_gen py files\n",
    "#\n",
    "# mv source dir to source_<version>"
   ]
  },
  {
   "cell_type": "code",
   "execution_count": null,
   "metadata": {},
   "outputs": [],
   "source": [
    "#\n",
    "# only needed if renaming\n",
    "#\n",
    "#my_exp.delete_artifacts('prediction/sources')\n",
    "#my_exp.delete_artifacts('training/sources')"
   ]
  },
  {
   "cell_type": "code",
   "execution_count": null,
   "metadata": {},
   "outputs": [],
   "source": [
    "# my_exp.delete_artifacts('prediction/images/' + image_file)"
   ]
  },
  {
   "cell_type": "code",
   "execution_count": null,
   "metadata": {},
   "outputs": [],
   "source": [
    "# my_exp.delete_artifacts( prediction_dir + \"/\" + prediction_py)\n",
    "# my_exp.delete_artifacts( prediction_dir + \"/\" + prediction_csh)\n",
    "# my_exp.delete_artifacts( prediction_dir + \"/\" + prediction_plt_ipynb)\n",
    "#\n",
    "# my_exp.delete_artifacts( training_dir + \"/\" + model_py)\n",
    "# my_exp.delete_artifacts( training_dir + \"/\" + train_py)\n",
    "# my_exp.delete_artifacts( training_dir + \"/\" + train_csh)\n"
   ]
  },
  {
   "cell_type": "code",
   "execution_count": 4,
   "metadata": {},
   "outputs": [],
   "source": [
    "# send image\n",
    "my_exp.log_artifact(os.path.join(image_dir, image_file) , 'prediction/images/' + image_file)"
   ]
  },
  {
   "cell_type": "code",
   "execution_count": 5,
   "metadata": {},
   "outputs": [],
   "source": [
    "#\n",
    "# overwrites these files if the already exist\n",
    "#\n",
    "my_exp.log_artifact( os.path.join(script_dir, 'sources_' + version, prediction_py), prediction_dir + \"/\" + prediction_py)\n",
    "my_exp.log_artifact( os.path.join(script_dir, 'sources_' + version, prediction_csh), prediction_dir + \"/\" + prediction_csh)\n",
    "my_exp.log_artifact( os.path.join(script_dir, 'sources_' + version, prediction_plt_ipynb), prediction_dir + \"/\" + prediction_plt_ipynb)\n",
    "#\n",
    "my_exp.log_artifact( os.path.join(script_dir, 'sources_' + version, model_py), training_dir + \"/\" + model_py)\n",
    "my_exp.log_artifact( os.path.join(script_dir, 'sources_' + version, train_py), training_dir + \"/\" + train_py)\n",
    "my_exp.log_artifact( os.path.join(script_dir, 'sources_' + version, train_csh), training_dir + \"/\" + train_csh)\n",
    "#"
   ]
  },
  {
   "cell_type": "code",
   "execution_count": null,
   "metadata": {},
   "outputs": [],
   "source": []
  }
 ],
 "metadata": {
  "kernelspec": {
   "display_name": "Python 3",
   "language": "python",
   "name": "python3"
  },
  "language_info": {
   "codemirror_mode": {
    "name": "ipython",
    "version": 3
   },
   "file_extension": ".py",
   "mimetype": "text/x-python",
   "name": "python",
   "nbconvert_exporter": "python",
   "pygments_lexer": "ipython3",
   "version": "3.7.5"
  }
 },
 "nbformat": 4,
 "nbformat_minor": 4
}
