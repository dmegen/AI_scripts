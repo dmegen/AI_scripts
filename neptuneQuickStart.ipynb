{
 "cells": [
  {
   "cell_type": "code",
   "execution_count": 1,
   "metadata": {},
   "outputs": [],
   "source": [
    "# Connect your script to Neptune\n",
    "import neptune\n",
    "from neptunecontrib.monitoring.keras import NeptuneMonitor"
   ]
  },
  {
   "cell_type": "code",
   "execution_count": null,
   "metadata": {},
   "outputs": [],
   "source": [
    "neptune.init(project_qualified_name='hardt/sandbox',\n",
    "             api_token='eyJhcGlfYWRkcmVzcyI6Imh0dHBzOi8vdWkubmVwdHVuZS5haSIsImFwaV91cmwiOiJodHRwczovL3VpLm5lcHR1bmUuYWkiLCJhcGlfa2V5IjoiOTFlYTI0ZDAtMzk3Zi00NzU0LWEzNWUtMzY2ZDcxZTA4OTg2In0=',\n",
    "             )"
   ]
  },
  {
   "cell_type": "code",
   "execution_count": 7,
   "metadata": {},
   "outputs": [
    {
     "name": "stderr",
     "output_type": "stream",
     "text": [
      "NVMLError: Driver Not Loaded - GPU usage metrics may not be reported.\n"
     ]
    },
    {
     "name": "stdout",
     "output_type": "stream",
     "text": [
      "https://ui.neptune.ai/hardt/sandbox/e/SAN-1\n"
     ]
    },
    {
     "data": {
      "text/plain": [
       "Experiment(SAN-1)"
      ]
     },
     "execution_count": 7,
     "metadata": {},
     "output_type": "execute_result"
    }
   ],
   "source": [
    "# Create experiment\n",
    "neptune.create_experiment()"
   ]
  },
  {
   "cell_type": "code",
   "execution_count": 8,
   "metadata": {},
   "outputs": [],
   "source": [
    "# Log metrics to experiment\n",
    "from time import sleep\n",
    "\n",
    "neptune.log_metric('single_metric', 0.62)"
   ]
  },
  {
   "cell_type": "code",
   "execution_count": 9,
   "metadata": {},
   "outputs": [],
   "source": [
    "for i in range(100):\n",
    "    sleep(0.2) # to see logging live\n",
    "    neptune.log_metric('random_training_metric', i * 0.6)\n",
    "    neptune.log_metric('other_random_training_metric', i * 0.4)"
   ]
  }
 ],
 "metadata": {
  "kernelspec": {
   "display_name": "Python 3",
   "language": "python",
   "name": "python3"
  },
  "language_info": {
   "codemirror_mode": {
    "name": "ipython",
    "version": 3
   },
   "file_extension": ".py",
   "mimetype": "text/x-python",
   "name": "python",
   "nbconvert_exporter": "python",
   "pygments_lexer": "ipython3",
   "version": "3.7.5"
  }
 },
 "nbformat": 4,
 "nbformat_minor": 4
}
