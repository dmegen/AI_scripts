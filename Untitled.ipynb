{
 "cells": [
  {
   "cell_type": "code",
   "execution_count": 1,
   "metadata": {},
   "outputs": [],
   "source": [
    "import tensorflow as tf\n",
    "import xarray as xr\n",
    "import numpy as np\n",
    "import os\n",
    "import sys\n",
    "from scipy.ndimage import gaussian_filter\n",
    "from tensorflow.keras.optimizers import *\n",
    "import glob\n",
    "import time\n",
    "\n",
    "t = time.strftime(\"%Y_%m_%d_%H_%M\", time.localtime())\n",
    "\n",
    "def scheduler(epoch):\n",
    "  if epoch < 6:\n",
    "    return 0.0001\n",
    "  else:\n",
    "    return 0.0001 * tf.math.exp(0.1 * (10 - epoch))\n"
   ]
  },
  {
   "cell_type": "code",
   "execution_count": 2,
   "metadata": {},
   "outputs": [],
   "source": [
    "############################\n",
    "# set up the run information\n",
    "############################\n",
    "output_root_directory = '/glade/work/hardt/models'\n",
    "model_run_name        = 'unet_v2p0'\n",
    "from unet_model_v2p0 import unet\n",
    "#--------------------------\n",
    "output_model_name     = 'trained_model_{}.h5'\n",
    "log_dir = os.path.join(output_root_directory, model_run_name, 'logs', 'fit',output_model_name.format(t))\n",
    "feature_data          = '/glade/work/hardt/ds612/2000-2013_June-Sept_DS128_REFL.nc'\n",
    "label_data            = '/glade/work/hardt/ds612/2000-2013_June-Sept_DS128_maxW.nc'\n",
    "#feature_data = '/glade/work/hardt/ds612/2000-2013_June-Sept_CTRLradrefl_REFL.nc'\n",
    "#label_data   = '/glade/work/hardt/ds612/2000-2013_June-Sept_CTRL3D_maxW.nc'\n",
    "############################\n",
    "\n",
    "output_path = os.path.join(output_root_directory, model_run_name)\n",
    "if not os.path.exists(output_path):\n",
    "    os.makedirs(output_path)\n"
   ]
  },
  {
   "cell_type": "code",
   "execution_count": 4,
   "metadata": {},
   "outputs": [
    {
     "name": "stdout",
     "output_type": "stream",
     "text": [
      "Using input model /glade/work/hardt/models/unet_v2p0/trained_model_2020_06_19_09_12.h5\n"
     ]
    }
   ],
   "source": [
    "############################\n",
    "# get the latest trained_model \n",
    "# file. If none are found use\n",
    "# the trained_model_start.h5 name.\n",
    "############################\n",
    "list_of_files = glob.glob(os.path.join(output_path, 'trained_model_*.h5'))\n",
    "try:\n",
    "    input_model_name = max(list_of_files, key=os.path.getctime)\n",
    "#    input_model_name = \"trained_model_start.h5\"\n",
    "    print(\"Using input model\", input_model_name)\n",
    "except:\n",
    "    input_model_name = \"trained_model_start.h5\"\n",
    "    print(\"Creating input_model\", input_model_name)\n",
    "\n",
    "input_model_name = 'trained_model_2020_06_19_09_12.h5'\n",
    "############################\n"
   ]
  },
  {
   "cell_type": "code",
   "execution_count": 5,
   "metadata": {},
   "outputs": [],
   "source": [
    "if not os.path.exists(log_dir):\n",
    "    os.makedirs(log_dir)\n"
   ]
  },
  {
   "cell_type": "code",
   "execution_count": 6,
   "metadata": {},
   "outputs": [],
   "source": [
    "#\n",
    "# set up the model\n",
    "#\n",
    "input_model = os.path.join(output_path, input_model_name)\n",
    "output_model = os.path.join(output_path, output_model_name)\n",
    "\n",
    "if not os.path.isfile(input_model):\n",
    "    test_model = unet()\n",
    "    #test_model.compile(optimizer = Adam(lr = 1e-4), loss = 'binary_crossentropy', metrics = ['accuracy'])\n",
    "    #test_model.compile(optimizer = SGD(), loss = 'mse', metrics = ['accuracy'], run_eagerly=True)\n",
    "    print(\"Compiling new model\")\n",
    "    test_model.compile(optimizer = SGD(lr=1e-4, momentum=0.5), loss = 'mse', metrics = ['accuracy'], run_eagerly=True)\n",
    "    test_model.save(input_model)\n"
   ]
  },
  {
   "cell_type": "code",
   "execution_count": 7,
   "metadata": {},
   "outputs": [],
   "source": [
    "model = tf.keras.models.load_model(input_model)"
   ]
  },
  {
   "cell_type": "code",
   "execution_count": 22,
   "metadata": {},
   "outputs": [
    {
     "name": "stdout",
     "output_type": "stream",
     "text": [
      "dict_keys(['name', 'layers', 'input_layers', 'output_layers'])\n",
      "{'class_name': 'Conv2D', 'config': {'name': 'conv2d', 'trainable': True, 'dtype': 'float32', 'filters': 64, 'kernel_size': (3, 3), 'strides': (1, 1), 'padding': 'same', 'data_format': 'channels_last', 'dilation_rate': (1, 1), 'activation': 'relu', 'use_bias': True, 'kernel_initializer': {'class_name': 'VarianceScaling', 'config': {'scale': 2.0, 'mode': 'fan_in', 'distribution': 'truncated_normal', 'seed': None}}, 'bias_initializer': {'class_name': 'Zeros', 'config': {}}, 'kernel_regularizer': None, 'bias_regularizer': None, 'activity_regularizer': None, 'kernel_constraint': None, 'bias_constraint': None}, 'name': 'conv2d', 'inbound_nodes': [[['input_1', 0, 0, {}]]]}\n",
      "{'class_name': 'Conv2D', 'config': {'name': 'conv2d_22', 'trainable': True, 'dtype': 'float32', 'filters': 2, 'kernel_size': (3, 3), 'strides': (1, 1), 'padding': 'same', 'data_format': 'channels_last', 'dilation_rate': (1, 1), 'activation': 'relu', 'use_bias': True, 'kernel_initializer': {'class_name': 'VarianceScaling', 'config': {'scale': 2.0, 'mode': 'fan_in', 'distribution': 'truncated_normal', 'seed': None}}, 'bias_initializer': {'class_name': 'Zeros', 'config': {}}, 'kernel_regularizer': None, 'bias_regularizer': None, 'activity_regularizer': None, 'kernel_constraint': None, 'bias_constraint': None}, 'name': 'conv2d_22', 'inbound_nodes': [[['conv2d_21', 0, 0, {}]]]}\n"
     ]
    }
   ],
   "source": [
    "test = model.get_config()\n",
    "print(test.keys())\n",
    "#print(test.get(\"layers\"))\n",
    "testa = test.get(\"layers\")\n",
    "print(testa[1])\n",
    "print(testa[-2])"
   ]
  },
  {
   "cell_type": "code",
   "execution_count": 19,
   "metadata": {},
   "outputs": [],
   "source": [
    "optimizer = model.optimizer\n",
    "loss = model.loss\n",
    "metric = model.metrics\n"
   ]
  },
  {
   "cell_type": "code",
   "execution_count": 20,
   "metadata": {},
   "outputs": [
    {
     "name": "stdout",
     "output_type": "stream",
     "text": [
      "<tensorflow.python.keras.optimizer_v2.gradient_descent.SGD object at 0x2b4ebff24cd0>\n",
      "mse\n",
      "[<tensorflow.python.keras.metrics.MeanMetricWrapper object at 0x2b4ebff35990>]\n"
     ]
    }
   ],
   "source": [
    "print(optimizer)\n",
    "print(loss)\n",
    "print(metric)"
   ]
  },
  {
   "cell_type": "code",
   "execution_count": null,
   "metadata": {},
   "outputs": [],
   "source": []
  }
 ],
 "metadata": {
  "kernelspec": {
   "display_name": "Python 3",
   "language": "python",
   "name": "python3"
  },
  "language_info": {
   "codemirror_mode": {
    "name": "ipython",
    "version": 3
   },
   "file_extension": ".py",
   "mimetype": "text/x-python",
   "name": "python",
   "nbconvert_exporter": "python",
   "pygments_lexer": "ipython3",
   "version": "3.7.5"
  }
 },
 "nbformat": 4,
 "nbformat_minor": 4
}
